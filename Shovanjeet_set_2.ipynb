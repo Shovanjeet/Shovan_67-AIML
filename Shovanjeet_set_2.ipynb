{
  "nbformat": 4,
  "nbformat_minor": 0,
  "metadata": {
    "colab": {
      "provenance": [],
      "authorship_tag": "ABX9TyN+mcW7oyToTY6uE0RLNBqK",
      "include_colab_link": true
    },
    "kernelspec": {
      "name": "python3",
      "display_name": "Python 3"
    },
    "language_info": {
      "name": "python"
    }
  },
  "cells": [
    {
      "cell_type": "markdown",
      "metadata": {
        "id": "view-in-github",
        "colab_type": "text"
      },
      "source": [
        "<a href=\"https://colab.research.google.com/github/Shovanjeet/Shovan_67-AIML/blob/main/Shovanjeet_set_2.ipynb\" target=\"_parent\"><img src=\"https://colab.research.google.com/assets/colab-badge.svg\" alt=\"Open In Colab\"/></a>"
      ]
    },
    {
      "cell_type": "markdown",
      "source": [
        "WRITE PYTHON PROGRAMING:\n",
        "Separately  , Using nested for, while looping structure for the following programs:\n",
        "1. Display the pattern\n",
        "(a)\n",
        "1 \n",
        "2 2 \n",
        "3 3 3 \n",
        "4 4 4 4 \n",
        "5 5 5 5 5"
      ],
      "metadata": {
        "id": "-6OBKojNfP-L"
      }
    },
    {
      "cell_type": "code",
      "source": [
        "for i in range(0,6):\n",
        "  for j in  range(i):\n",
        "    print(i,end=' ')\n",
        "  print()"
      ],
      "metadata": {
        "colab": {
          "base_uri": "https://localhost:8080/"
        },
        "id": "DpPaHwV1fYt_",
        "outputId": "bdc6e501-a879-4986-d63e-4b404923c999"
      },
      "execution_count": 1,
      "outputs": [
        {
          "output_type": "stream",
          "name": "stdout",
          "text": [
            "\n",
            "1 \n",
            "2 2 \n",
            "3 3 3 \n",
            "4 4 4 4 \n",
            "5 5 5 5 5 \n"
          ]
        }
      ]
    },
    {
      "cell_type": "markdown",
      "source": [
        "(b)\n",
        "\t55555\n",
        "\t4444\n",
        "\t333\n",
        "\t22\n",
        "\t1"
      ],
      "metadata": {
        "id": "o0aqR3esfiqA"
      }
    },
    {
      "cell_type": "code",
      "source": [
        "for i in range(5,0,-1):\n",
        "  for j in  range(0,i):\n",
        "    print(i,end=' ')\n",
        "  print()"
      ],
      "metadata": {
        "colab": {
          "base_uri": "https://localhost:8080/"
        },
        "id": "PLyHP6i1fmQZ",
        "outputId": "0d919804-3255-4517-c1da-085775ca640d"
      },
      "execution_count": 2,
      "outputs": [
        {
          "output_type": "stream",
          "name": "stdout",
          "text": [
            "5 5 5 5 5 \n",
            "4 4 4 4 \n",
            "3 3 3 \n",
            "2 2 \n",
            "1 \n"
          ]
        }
      ]
    },
    {
      "cell_type": "markdown",
      "source": [
        "(c)\t\n",
        "1 \n",
        "2 2 \n",
        "3 3 3 \n",
        "4 4 4 4 \n",
        "5 5 5 5 5\n",
        "……. n Where ‘n’ from keyboard input."
      ],
      "metadata": {
        "id": "uRmQyGaOfr_T"
      }
    },
    {
      "cell_type": "code",
      "source": [
        "n=int(input(\"Enter a number: \"))\n",
        "for i in range(0,n):\n",
        "  for j in  range(i):\n",
        "    print(i+1,end=' ')\n",
        "  print()"
      ],
      "metadata": {
        "colab": {
          "base_uri": "https://localhost:8080/"
        },
        "id": "EFSXnRKcf2tl",
        "outputId": "5ff5da7e-4eb5-4809-82c0-09c4f3f039d2"
      },
      "execution_count": 4,
      "outputs": [
        {
          "output_type": "stream",
          "name": "stdout",
          "text": [
            "Enter a number: 8\n",
            "\n",
            "2 \n",
            "3 3 \n",
            "4 4 4 \n",
            "5 5 5 5 \n",
            "6 6 6 6 6 \n",
            "7 7 7 7 7 7 \n",
            "8 8 8 8 8 8 8 \n"
          ]
        }
      ]
    },
    {
      "cell_type": "markdown",
      "source": [
        "(d)\n",
        "\t……..n Where ‘n’ from keyboard input.\n",
        "\t55555\n",
        "\t4444\n",
        "\t333\n",
        "\t22\n",
        "\t1"
      ],
      "metadata": {
        "id": "izXPdvCof-Ms"
      }
    },
    {
      "cell_type": "code",
      "source": [
        "n=int(input(\"Enter a number: \"))\n",
        "for i in range(n,0,-1):\n",
        "  for j in  range(0,i):\n",
        "    print(i,end=' ')\n",
        "  print()"
      ],
      "metadata": {
        "colab": {
          "base_uri": "https://localhost:8080/"
        },
        "id": "dmTf67FbgCI-",
        "outputId": "de32bbca-664e-442c-b8e9-90bf4892a4ee"
      },
      "execution_count": 5,
      "outputs": [
        {
          "output_type": "stream",
          "name": "stdout",
          "text": [
            "Enter a number: 8\n",
            "8 8 8 8 8 8 8 8 \n",
            "7 7 7 7 7 7 7 \n",
            "6 6 6 6 6 6 \n",
            "5 5 5 5 5 \n",
            "4 4 4 4 \n",
            "3 3 3 \n",
            "2 2 \n",
            "1 \n"
          ]
        }
      ]
    },
    {
      "cell_type": "markdown",
      "source": [
        "(e)\n",
        "\t1 \n",
        "\t2 2 \n",
        "\t3 3 3 \n",
        "\t4 4 4 4 \n",
        "\t55555\n",
        "\t4444\n",
        "\t333\t\n",
        "\t22\n",
        "\t1"
      ],
      "metadata": {
        "id": "w7yun_JjgIL4"
      }
    },
    {
      "cell_type": "code",
      "source": [
        "for i in range(0,5):\n",
        "  for j in  range(i):\n",
        "    print(i,end=' ')\n",
        "  print()\n",
        "for i in range(5,0,-1):\n",
        "  for j in  range(0,i):\n",
        "    print(i,end=' ')\n",
        "  print()"
      ],
      "metadata": {
        "colab": {
          "base_uri": "https://localhost:8080/"
        },
        "id": "NyH1qbjCgLtU",
        "outputId": "e699f886-a121-47a4-f316-d51c80d27d08"
      },
      "execution_count": 6,
      "outputs": [
        {
          "output_type": "stream",
          "name": "stdout",
          "text": [
            "\n",
            "1 \n",
            "2 2 \n",
            "3 3 3 \n",
            "4 4 4 4 \n",
            "5 5 5 5 5 \n",
            "4 4 4 4 \n",
            "3 3 3 \n",
            "2 2 \n",
            "1 \n"
          ]
        }
      ]
    },
    {
      "cell_type": "markdown",
      "source": [
        "(f)\n",
        "\t1 \n",
        "\t2 2 \n",
        "\t3 3 3 \n",
        "\t4 4 4 4 \n",
        "\t55555\n",
        "\tNnnnnn..nnn Where ‘n’ from keyboard input.\n",
        "\t4444\n",
        "\t333\t\n",
        "\t22\n",
        "\t1"
      ],
      "metadata": {
        "id": "dTQOHHgEgPwD"
      }
    },
    {
      "cell_type": "code",
      "source": [
        "n=int(input(\"Enter a number: \"))\n",
        "for i in range(0,n):\n",
        "  for j in  range(i):\n",
        "    print(i,end=' ')\n",
        "  print()\n",
        "for i in range(n,0,-1):\n",
        "  for j in  range(0,i):\n",
        "    print(i,end=' ')\n",
        "  print()"
      ],
      "metadata": {
        "colab": {
          "base_uri": "https://localhost:8080/"
        },
        "id": "83VUdJzngVJy",
        "outputId": "8efadfd7-5b11-4784-ead6-6b7e7b45928b"
      },
      "execution_count": 7,
      "outputs": [
        {
          "output_type": "stream",
          "name": "stdout",
          "text": [
            "Enter a number: 8\n",
            "\n",
            "1 \n",
            "2 2 \n",
            "3 3 3 \n",
            "4 4 4 4 \n",
            "5 5 5 5 5 \n",
            "6 6 6 6 6 6 \n",
            "7 7 7 7 7 7 7 \n",
            "8 8 8 8 8 8 8 8 \n",
            "7 7 7 7 7 7 7 \n",
            "6 6 6 6 6 6 \n",
            "5 5 5 5 5 \n",
            "4 4 4 4 \n",
            "3 3 3 \n",
            "2 2 \n",
            "1 \n"
          ]
        }
      ]
    },
    {
      "cell_type": "markdown",
      "source": [
        "2. Display the Pattern\n",
        "(a)\n",
        "5 \n",
        "5 4 \n",
        "5 4 3 \n",
        "5 4 3 2 \n",
        "5 4 3 2 1"
      ],
      "metadata": {
        "id": "eFNkFSZegaOW"
      }
    },
    {
      "cell_type": "code",
      "source": [
        "for i in range(5,0,-1):\n",
        "  for j in  range(5,i-1,-1):\n",
        "    print(j,end=' ')\n",
        "  print()"
      ],
      "metadata": {
        "colab": {
          "base_uri": "https://localhost:8080/"
        },
        "id": "WixJWMJMgiC8",
        "outputId": "8e9f6f59-ae60-4dca-94d9-d5137a284f71"
      },
      "execution_count": 8,
      "outputs": [
        {
          "output_type": "stream",
          "name": "stdout",
          "text": [
            "5 \n",
            "5 4 \n",
            "5 4 3 \n",
            "5 4 3 2 \n",
            "5 4 3 2 1 \n"
          ]
        }
      ]
    },
    {
      "cell_type": "markdown",
      "source": [
        "(b)\n",
        "\n",
        "5 4 3 2 1\n",
        "5 4 3 2 \n",
        "5 4 3 \n",
        "5 4 \n",
        "5"
      ],
      "metadata": {
        "id": "CsfS-UwegoFx"
      }
    },
    {
      "cell_type": "code",
      "source": [
        "for i in range(1,6):\n",
        "  for j in  range(5,i-1,-1):\n",
        "    print(j,end=' ')\n",
        "  print()"
      ],
      "metadata": {
        "colab": {
          "base_uri": "https://localhost:8080/"
        },
        "id": "LH4xCw7XgsJE",
        "outputId": "0fe681ec-64d7-4c07-b114-3fb8d48a538f"
      },
      "execution_count": 9,
      "outputs": [
        {
          "output_type": "stream",
          "name": "stdout",
          "text": [
            "5 4 3 2 1 \n",
            "5 4 3 2 \n",
            "5 4 3 \n",
            "5 4 \n",
            "5 \n"
          ]
        }
      ]
    },
    {
      "cell_type": "markdown",
      "source": [
        "(c)\n",
        "\n",
        "….n\n",
        "5 \n",
        "5 4 \n",
        "5 4 3 \n",
        "5 4 3 2 \n",
        "5 4 3 2 1\n",
        "Where ‘n’ from keyboard input."
      ],
      "metadata": {
        "id": "o3rJQYBbgzxS"
      }
    },
    {
      "cell_type": "code",
      "source": [
        "n=int(input(\"Enter a number: \"))\n",
        "for i in range(n,0,-1):\n",
        "  for j in  range(n,i-1,-1):\n",
        "    print(j,end=' ')\n",
        "  print()"
      ],
      "metadata": {
        "colab": {
          "base_uri": "https://localhost:8080/"
        },
        "id": "F7WBQjaYg5eV",
        "outputId": "088ee198-e2bd-41d9-9f22-6338b870fd78"
      },
      "execution_count": 11,
      "outputs": [
        {
          "output_type": "stream",
          "name": "stdout",
          "text": [
            "Enter a number: 8\n",
            "8 \n",
            "8 7 \n",
            "8 7 6 \n",
            "8 7 6 5 \n",
            "8 7 6 5 4 \n",
            "8 7 6 5 4 3 \n",
            "8 7 6 5 4 3 2 \n",
            "8 7 6 5 4 3 2 1 \n"
          ]
        }
      ]
    },
    {
      "cell_type": "markdown",
      "source": [
        "(d)\n",
        "\n",
        "5 4 3 2 1\n",
        "5 4 3 2 \n",
        "5 4 3 \n",
        "5 4 \n",
        "5\n",
        "…n\n",
        "Where ‘n’ from keyboard input."
      ],
      "metadata": {
        "id": "zKl4w9AChAri"
      }
    },
    {
      "cell_type": "code",
      "source": [
        "n=int(input(\"Enter a number: \"))\n",
        "for i in range(0,n):\n",
        "  for j in range(n-1,i-1,-1):\n",
        "    print(j+1,end=' ')\n",
        "  print()"
      ],
      "metadata": {
        "colab": {
          "base_uri": "https://localhost:8080/"
        },
        "id": "u9z_Tvc-hFTL",
        "outputId": "3c955bda-c934-408f-db5e-ff6b609b469a"
      },
      "execution_count": 12,
      "outputs": [
        {
          "output_type": "stream",
          "name": "stdout",
          "text": [
            "Enter a number: 8\n",
            "8 7 6 5 4 3 2 1 \n",
            "8 7 6 5 4 3 2 \n",
            "8 7 6 5 4 3 \n",
            "8 7 6 5 4 \n",
            "8 7 6 5 \n",
            "8 7 6 \n",
            "8 7 \n",
            "8 \n"
          ]
        }
      ]
    },
    {
      "cell_type": "markdown",
      "source": [
        "(e)\n",
        "5 \n",
        "5 4 \n",
        "5 4 3 \n",
        "5 4 3 2 \n",
        "5 4 3 2 1\n",
        "5 4 3 2 \n",
        "5 4 3 \n",
        "5 4 \n",
        "5"
      ],
      "metadata": {
        "id": "ZCXCfxzhhLVP"
      }
    },
    {
      "cell_type": "code",
      "source": [
        "for i in range(5,0,-1):\n",
        "  for j in  range(5,i-1,-1):\n",
        "    print(j,end=' ')\n",
        "  print()\n",
        "for i in range(2,6):\n",
        "  for j in  range(5,i-1,-1):\n",
        "    print(j,end=' ')\n",
        "  print()"
      ],
      "metadata": {
        "colab": {
          "base_uri": "https://localhost:8080/"
        },
        "id": "DwyAxvDEhSK9",
        "outputId": "fd8acfce-0378-4937-d1bb-44ddb0e5b782"
      },
      "execution_count": 13,
      "outputs": [
        {
          "output_type": "stream",
          "name": "stdout",
          "text": [
            "5 \n",
            "5 4 \n",
            "5 4 3 \n",
            "5 4 3 2 \n",
            "5 4 3 2 1 \n",
            "5 4 3 2 \n",
            "5 4 3 \n",
            "5 4 \n",
            "5 \n"
          ]
        }
      ]
    },
    {
      "cell_type": "markdown",
      "source": [
        "3. Right Triangle Numeric Pattern\n",
        "(a)\n",
        "1 \n",
        "2 1 \n",
        "3 2 1 \n",
        "4 3 2 1 \n",
        "5 4 3 2 1"
      ],
      "metadata": {
        "id": "lrEUleI0hZ91"
      }
    },
    {
      "cell_type": "code",
      "source": [
        "for i in range(0,6):\n",
        "  for j in range(i,0,-1):\n",
        "    print(j,end=' ')\n",
        "  print()"
      ],
      "metadata": {
        "colab": {
          "base_uri": "https://localhost:8080/"
        },
        "id": "fit09OyIheMx",
        "outputId": "6a1ab8d3-4585-45d5-d701-99ab5e71f6c5"
      },
      "execution_count": 14,
      "outputs": [
        {
          "output_type": "stream",
          "name": "stdout",
          "text": [
            "\n",
            "1 \n",
            "2 1 \n",
            "3 2 1 \n",
            "4 3 2 1 \n",
            "5 4 3 2 1 \n"
          ]
        }
      ]
    },
    {
      "cell_type": "markdown",
      "source": [
        "(b)\n",
        "\n",
        "5 4 3 2 1\n",
        "4 3 2 1 \n",
        "3 2 1 \n",
        "2 1 \n",
        "1 "
      ],
      "metadata": {
        "id": "FebAARdyhle6"
      }
    },
    {
      "cell_type": "code",
      "source": [
        "for i in range(0,5+1):\n",
        "  for j in  range(5-i,0,-1):\n",
        "    print(j,end=' ')\n",
        "  print()"
      ],
      "metadata": {
        "colab": {
          "base_uri": "https://localhost:8080/"
        },
        "id": "CC0iD_jDho0H",
        "outputId": "e447e539-ed5f-4dfc-cb51-b5ded9815f1a"
      },
      "execution_count": 15,
      "outputs": [
        {
          "output_type": "stream",
          "name": "stdout",
          "text": [
            "5 4 3 2 1 \n",
            "4 3 2 1 \n",
            "3 2 1 \n",
            "2 1 \n",
            "1 \n",
            "\n"
          ]
        }
      ]
    },
    {
      "cell_type": "markdown",
      "source": [
        "(c)\n",
        "\n",
        "1 \n",
        "2 1 \n",
        "3 2 1 \n",
        "4 3 2 1 \n",
        "5 4 3 2 1\n",
        "4 3 2 1 \n",
        "3 2 1 \n",
        "2 1 \n",
        "1 "
      ],
      "metadata": {
        "id": "hfFC4lHqhsWV"
      }
    },
    {
      "cell_type": "code",
      "source": [
        "for i in range(0,5):\n",
        "  for j in range(i,0,-1):\n",
        "    print(j,end=' ')\n",
        "  print()\n",
        "for i in range(0,5+1):\n",
        "  for j in  range(5-i,0,-1):\n",
        "    print(j,end=' ')\n",
        "  print()"
      ],
      "metadata": {
        "colab": {
          "base_uri": "https://localhost:8080/"
        },
        "id": "fV6PqGUIh0qU",
        "outputId": "f64e31f2-8164-4ad2-a130-16266e436088"
      },
      "execution_count": 16,
      "outputs": [
        {
          "output_type": "stream",
          "name": "stdout",
          "text": [
            "\n",
            "1 \n",
            "2 1 \n",
            "3 2 1 \n",
            "4 3 2 1 \n",
            "5 4 3 2 1 \n",
            "4 3 2 1 \n",
            "3 2 1 \n",
            "2 1 \n",
            "1 \n",
            "\n"
          ]
        }
      ]
    },
    {
      "cell_type": "markdown",
      "source": [
        "4. Binary Number Pattern\n",
        "10101\n",
        "01010\n",
        "10101\n",
        "01010\n",
        "10101"
      ],
      "metadata": {
        "id": "Jb_7OLI1h4yn"
      }
    },
    {
      "cell_type": "code",
      "source": [
        "for i in range(1,5):\n",
        "  for j in  range(0,5):\n",
        "    c=(i+j)%2\n",
        "    print(c,end=' ')\n",
        "  print()"
      ],
      "metadata": {
        "colab": {
          "base_uri": "https://localhost:8080/"
        },
        "id": "vTPt603uh_px",
        "outputId": "07efd9d5-06c8-4bf8-888d-ca1fb1fa4cd8"
      },
      "execution_count": 17,
      "outputs": [
        {
          "output_type": "stream",
          "name": "stdout",
          "text": [
            "1 0 1 0 1 \n",
            "0 1 0 1 0 \n",
            "1 0 1 0 1 \n",
            "0 1 0 1 0 \n"
          ]
        }
      ]
    },
    {
      "cell_type": "markdown",
      "source": [
        "5. Zeros/ ones Pattern Programs\n",
        "1\n",
        "10\n",
        "101\n",
        "1010\n",
        "10101"
      ],
      "metadata": {
        "id": "9Hg85ZaTiq-p"
      }
    },
    {
      "cell_type": "code",
      "source": [
        "for i in range(1,5+1):\n",
        "  for j in  range(1,i+1):\n",
        "    c=j%2\n",
        "    print(c,end=' ')\n",
        "  print()"
      ],
      "metadata": {
        "colab": {
          "base_uri": "https://localhost:8080/"
        },
        "id": "k0w0PCGmivsR",
        "outputId": "8fe71e5d-3d36-4561-bb42-be8d79031a6b"
      },
      "execution_count": 18,
      "outputs": [
        {
          "output_type": "stream",
          "name": "stdout",
          "text": [
            "1 \n",
            "1 0 \n",
            "1 0 1 \n",
            "1 0 1 0 \n",
            "1 0 1 0 1 \n"
          ]
        }
      ]
    }
  ]
}