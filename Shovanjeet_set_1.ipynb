{
  "nbformat": 4,
  "nbformat_minor": 0,
  "metadata": {
    "colab": {
      "provenance": [],
      "authorship_tag": "ABX9TyNIpb0Mkm5s9+ejxjW2eXBn",
      "include_colab_link": true
    },
    "kernelspec": {
      "name": "python3",
      "display_name": "Python 3"
    },
    "language_info": {
      "name": "python"
    }
  },
  "cells": [
    {
      "cell_type": "markdown",
      "metadata": {
        "id": "view-in-github",
        "colab_type": "text"
      },
      "source": [
        "<a href=\"https://colab.research.google.com/github/Shovanjeet/Shovan_67-AIML/blob/main/Shovanjeet_set_1.ipynb\" target=\"_parent\"><img src=\"https://colab.research.google.com/assets/colab-badge.svg\" alt=\"Open In Colab\"/></a>"
      ]
    },
    {
      "cell_type": "markdown",
      "source": [
        "Steps used in individual PYTHON programming:\n",
        "1.\tUsing Keyboard Input for input n.\n",
        "2.\tUsing looping structures (for , while looping structure (DO THE SEPARATE LOOPING STRUCTURE))\n",
        "QUESTION: Write the PYHON programming to input n and print the following programs:\n",
        "i. 1,2,3,4,.....,n"
      ],
      "metadata": {
        "id": "EBLVImywb1k8"
      }
    },
    {
      "cell_type": "code",
      "source": [
        "n=int(input(\"Enter the number: \"))\n",
        "for i in range(n):\n",
        "  print(i+1,end=', ')"
      ],
      "metadata": {
        "colab": {
          "base_uri": "https://localhost:8080/"
        },
        "id": "BlmO1dzpc3bK",
        "outputId": "fc41dc4c-845f-49ae-8eda-a560c6bccfa7"
      },
      "execution_count": null,
      "outputs": [
        {
          "output_type": "stream",
          "name": "stdout",
          "text": [
            "Enter the number: 30\n",
            "1, 2, 3, 4, 5, 6, 7, 8, 9, 10, 11, 12, 13, 14, 15, 16, 17, 18, 19, 20, 21, 22, 23, 24, 25, 26, 27, 28, 29, 30, "
          ]
        }
      ]
    },
    {
      "cell_type": "code",
      "source": [
        "n = int(input(\"Enter a number: \"))\n",
        "i=1\n",
        "while i<=n:\n",
        "   print(i, end=', ')\n",
        "   i=i+1"
      ],
      "metadata": {
        "colab": {
          "base_uri": "https://localhost:8080/"
        },
        "id": "zDBp46Q9hV8a",
        "outputId": "44530561-f6b2-4050-f0f9-4c2f5cf81bd4"
      },
      "execution_count": null,
      "outputs": [
        {
          "output_type": "stream",
          "name": "stdout",
          "text": [
            "Enter a number: 10\n",
            "1, 2, 3, 4, 5, 6, 7, 8, 9, 10, "
          ]
        }
      ]
    },
    {
      "cell_type": "markdown",
      "source": [
        "ii. 1,3,5,7,.....,n"
      ],
      "metadata": {
        "id": "KBibvM0rdFcJ"
      }
    },
    {
      "cell_type": "code",
      "source": [
        "n=int(input(\"Enter the value: \"))\n",
        "for i in range(1,n,2):\n",
        "  print(i,end=', ')"
      ],
      "metadata": {
        "colab": {
          "base_uri": "https://localhost:8080/"
        },
        "id": "X9tXb__GdKCo",
        "outputId": "c6d08e03-877c-4cbf-9284-550d2ec21025"
      },
      "execution_count": null,
      "outputs": [
        {
          "output_type": "stream",
          "name": "stdout",
          "text": [
            "Enter the value: 15\n",
            "1, 3, 5, 7, 9, 11, 13, "
          ]
        }
      ]
    },
    {
      "cell_type": "code",
      "source": [
        "n = int(input(\"Enter a number: \"))\n",
        "i=1\n",
        "while i<=n:\n",
        "   if i%2==0:\n",
        "     print(i, end=', ')\n",
        "   i=i+1"
      ],
      "metadata": {
        "colab": {
          "base_uri": "https://localhost:8080/"
        },
        "id": "AgRAFR5YhfzY",
        "outputId": "5f9969a7-e9d9-43fc-c716-76818ee3d399"
      },
      "execution_count": null,
      "outputs": [
        {
          "output_type": "stream",
          "name": "stdout",
          "text": [
            "Enter a number: 20\n",
            "2, 4, 6, 8, 10, 12, 14, 16, 18, 20, "
          ]
        }
      ]
    },
    {
      "cell_type": "markdown",
      "source": [
        "iii. 2,4,6,8,.....,n"
      ],
      "metadata": {
        "id": "RzeSW82udWPK"
      }
    },
    {
      "cell_type": "code",
      "source": [
        "n=int(input(\"Enter the value: \"))\n",
        "for i in range(2,n,2):\n",
        "  print(i,end=', ')"
      ],
      "metadata": {
        "colab": {
          "base_uri": "https://localhost:8080/"
        },
        "id": "HOV3FeMmdawc",
        "outputId": "3599c6f9-9681-42f9-df02-0e3b5684db1f"
      },
      "execution_count": null,
      "outputs": [
        {
          "output_type": "stream",
          "name": "stdout",
          "text": [
            "Enter the value: 30\n",
            "2, 4, 6, 8, 10, 12, 14, 16, 18, 20, 22, 24, 26, 28, "
          ]
        }
      ]
    },
    {
      "cell_type": "code",
      "source": [
        "n = int(input(\"Enter a number: \"))\n",
        "i=1\n",
        "while i<=n:\n",
        "   if i%2!=0:\n",
        "     print(i, end=', ')\n",
        "   i=i+1"
      ],
      "metadata": {
        "colab": {
          "base_uri": "https://localhost:8080/"
        },
        "id": "XqpJBIDshlUy",
        "outputId": "69f0a08e-8402-4da5-e856-34960045090a"
      },
      "execution_count": null,
      "outputs": [
        {
          "output_type": "stream",
          "name": "stdout",
          "text": [
            "Enter a number: 20\n",
            "1, 3, 5, 7, 9, 11, 13, 15, 17, 19, "
          ]
        }
      ]
    },
    {
      "cell_type": "markdown",
      "source": [
        "iv. 1^2,2^2,3^2,4^2,......,n"
      ],
      "metadata": {
        "id": "n7cAcqQjdjZx"
      }
    },
    {
      "cell_type": "code",
      "source": [
        "n=int(input(\"Enter the number: \"))\n",
        "for i in range(1,n):\n",
        "  c=i*i\n",
        "  print(c,end=', ')"
      ],
      "metadata": {
        "colab": {
          "base_uri": "https://localhost:8080/"
        },
        "id": "P8y-Z19gdre4",
        "outputId": "8cce85a6-5971-4f51-cb28-cb8fc500b274"
      },
      "execution_count": null,
      "outputs": [
        {
          "output_type": "stream",
          "name": "stdout",
          "text": [
            "Enter the number: 15\n",
            "1, 4, 9, 16, 25, 36, 49, 64, 81, 100, 121, 144, 169, 196, "
          ]
        }
      ]
    },
    {
      "cell_type": "code",
      "source": [
        "n = int(input(\"Enter a number: \"))\n",
        "i=1\n",
        "while i<=n:\n",
        "  c=i*i\n",
        "  print(c, end=', ')\n",
        "  i=i+1"
      ],
      "metadata": {
        "colab": {
          "base_uri": "https://localhost:8080/"
        },
        "id": "2nbgxB2whu3s",
        "outputId": "5fec912e-4bea-4853-b564-bb696b90236e"
      },
      "execution_count": null,
      "outputs": [
        {
          "output_type": "stream",
          "name": "stdout",
          "text": [
            "Enter a number: 20\n",
            "1, 4, 9, 16, 25, 36, 49, 64, 81, 100, 121, 144, 169, 196, 225, 256, 289, 324, 361, 400, "
          ]
        }
      ]
    },
    {
      "cell_type": "markdown",
      "source": [
        "v. 1^2,3^2,5^2,7^2,......,n"
      ],
      "metadata": {
        "id": "FuWojutPd2dP"
      }
    },
    {
      "cell_type": "code",
      "source": [
        "n=int(input(\"Enter the number: \"))\n",
        "for i in range(1,n,2):\n",
        "  c=i*i\n",
        "  print(c,end=', ')"
      ],
      "metadata": {
        "colab": {
          "base_uri": "https://localhost:8080/"
        },
        "id": "hzT4Nv59d8KM",
        "outputId": "ca9666fd-6094-45c6-e3d0-6f0c830787ce"
      },
      "execution_count": null,
      "outputs": [
        {
          "output_type": "stream",
          "name": "stdout",
          "text": [
            "Enter the number: 15\n",
            "1, 9, 25, 49, 81, 121, 169, "
          ]
        }
      ]
    },
    {
      "cell_type": "code",
      "source": [
        "n = int(input(\"Enter a number: \"))\n",
        "i=1\n",
        "while i<=n:\n",
        "  if i%2==0:\n",
        "    c=i*i\n",
        "    print(c, end=', ')\n",
        "  i=i+1"
      ],
      "metadata": {
        "colab": {
          "base_uri": "https://localhost:8080/"
        },
        "id": "LBDh28FLh6ZJ",
        "outputId": "160a07ec-e683-4a8f-f4b7-80bd7d269842"
      },
      "execution_count": null,
      "outputs": [
        {
          "output_type": "stream",
          "name": "stdout",
          "text": [
            "Enter a number: 20\n",
            "4, 16, 36, 64, 100, 144, 196, 256, 324, 400, "
          ]
        }
      ]
    },
    {
      "cell_type": "markdown",
      "source": [
        "vi. 2^2,4^2,6^2,8^2,......,n"
      ],
      "metadata": {
        "id": "TPYre-LoeDgB"
      }
    },
    {
      "cell_type": "code",
      "source": [
        "n=int(input(\"Enter the number: \"))\n",
        "for i in range(2,n,2):\n",
        "  c=i*i\n",
        "  print(c,end=', ')"
      ],
      "metadata": {
        "colab": {
          "base_uri": "https://localhost:8080/"
        },
        "id": "0BdZglBseKaN",
        "outputId": "401709fe-b5de-4b5f-ac08-f2ac770d17c4"
      },
      "execution_count": null,
      "outputs": [
        {
          "output_type": "stream",
          "name": "stdout",
          "text": [
            "Enter the number: 15\n",
            "4, 16, 36, 64, 100, 144, 196, "
          ]
        }
      ]
    },
    {
      "cell_type": "code",
      "source": [
        "n = int(input(\"Enter a number: \"))\n",
        "i=1\n",
        "while i<=n:\n",
        "  if i%2!=0:\n",
        "    c=i*i\n",
        "    print(c, end=', ')\n",
        "  i=i+1"
      ],
      "metadata": {
        "colab": {
          "base_uri": "https://localhost:8080/"
        },
        "id": "C8ewh0j0i-F_",
        "outputId": "5f942f50-a3da-409a-e0d6-657ddf5c8a3d"
      },
      "execution_count": null,
      "outputs": [
        {
          "output_type": "stream",
          "name": "stdout",
          "text": [
            "Enter a number: 20\n",
            "1, 9, 25, 49, 81, 121, 169, 225, 289, 361, "
          ]
        }
      ]
    },
    {
      "cell_type": "markdown",
      "source": [
        "vii. 1^r,2^r,3^r,4^r,.......,n(Input r also)"
      ],
      "metadata": {
        "id": "OpNYhiZ1eR1W"
      }
    },
    {
      "cell_type": "code",
      "source": [
        "n=int(input(\"Enter a number: \"))\n",
        "e=int(input(\"Enter a value: \"))\n",
        "for j in range(1,n):\n",
        "  def power(j,e):\n",
        "    res=0\n",
        "    for i in range(e):\n",
        "        res *= j\n",
        "    return res   \n",
        "  print(pow(j,e),end=', ')"
      ],
      "metadata": {
        "colab": {
          "base_uri": "https://localhost:8080/"
        },
        "id": "kljQvW6Hedph",
        "outputId": "ebc01aba-5ddc-41bb-e382-173ed2c52333"
      },
      "execution_count": null,
      "outputs": [
        {
          "output_type": "stream",
          "name": "stdout",
          "text": [
            "Enter a number: 20\n",
            "Enter a value: 5\n",
            "1, 32, 243, 1024, 3125, 7776, 16807, 32768, 59049, 100000, 161051, 248832, 371293, 537824, 759375, 1048576, 1419857, 1889568, 2476099, "
          ]
        }
      ]
    },
    {
      "cell_type": "code",
      "source": [
        "n=int(input(\"Enter a number: \"))\n",
        "e=int(input(\"Enter a value: \"))\n",
        "i=1\n",
        "while i<=n:\n",
        "  def power(i,e):\n",
        "    res=0\n",
        "    for j in range(e):\n",
        "        res *= i\n",
        "    return res   \n",
        "  print(pow(i,e),end=', ')\n",
        "  i=i+1"
      ],
      "metadata": {
        "colab": {
          "base_uri": "https://localhost:8080/"
        },
        "id": "yMAHfzWbjEXM",
        "outputId": "7606b77c-908d-4cf4-c58f-851d7929a57c"
      },
      "execution_count": null,
      "outputs": [
        {
          "output_type": "stream",
          "name": "stdout",
          "text": [
            "Enter a number: 10\n",
            "Enter a value: 5\n",
            "1, 32, 243, 1024, 3125, 7776, 16807, 32768, 59049, 100000, "
          ]
        }
      ]
    },
    {
      "cell_type": "markdown",
      "source": [
        "viii. 1^r,3^r,5^r,7^r,......,n(Input r also)"
      ],
      "metadata": {
        "id": "oMW9PjGUeoLW"
      }
    },
    {
      "cell_type": "code",
      "source": [
        "n=int(input(\"Enter a number: \"))\n",
        "e=int(input(\"Enter a value: \"))\n",
        "for j in range(1,n,2):\n",
        "  def power(j,e):\n",
        "    res=0\n",
        "    for i in range(e):\n",
        "        res *= j\n",
        "    return res   \n",
        "  print(pow(j,e),end=', ')"
      ],
      "metadata": {
        "colab": {
          "base_uri": "https://localhost:8080/"
        },
        "id": "fkLc9uP4fD7k",
        "outputId": "0b8ad08a-f437-4c24-fe76-8c13b857d3a3"
      },
      "execution_count": null,
      "outputs": [
        {
          "output_type": "stream",
          "name": "stdout",
          "text": [
            "Enter a number: 10\n",
            "Enter a value: 5\n",
            "1, 243, 3125, 16807, 59049, "
          ]
        }
      ]
    },
    {
      "cell_type": "code",
      "source": [
        "n=int(input(\"Enter a number: \"))\n",
        "e=int(input(\"Enter a value: \"))\n",
        "i=1\n",
        "while i<=n:\n",
        "  if i%2==0:\n",
        "     def power(i,e):\n",
        "        res=0\n",
        "        for j in range(e):\n",
        "          res *= i\n",
        "        return res \n",
        "     print(pow(i,e),end=', ')\n",
        "  i=i+1"
      ],
      "metadata": {
        "colab": {
          "base_uri": "https://localhost:8080/"
        },
        "id": "cGp7ljzRjKzW",
        "outputId": "0c7b5394-1818-46d7-b9f5-fe2343516bc3"
      },
      "execution_count": null,
      "outputs": [
        {
          "output_type": "stream",
          "name": "stdout",
          "text": [
            "Enter a number: 15\n",
            "Enter a value: 5\n",
            "32, 1024, 7776, 32768, 100000, 248832, 537824, "
          ]
        }
      ]
    },
    {
      "cell_type": "markdown",
      "source": [
        "ix. 2^r,4^r,6^r,8^r,.......,n(Input r also)"
      ],
      "metadata": {
        "id": "ebBD4oIsfLZ3"
      }
    },
    {
      "cell_type": "code",
      "source": [
        "n=int(input(\"Enter a number: \"))\n",
        "e=int(input(\"Enter a value: \"))\n",
        "for j in range(2,n,2):\n",
        "  def power(j,e):\n",
        "    res=0\n",
        "    for i in range(e):\n",
        "        res *= j\n",
        "    return res   \n",
        "  print(pow(j,e),end=', ')"
      ],
      "metadata": {
        "colab": {
          "base_uri": "https://localhost:8080/"
        },
        "id": "9DhLbL64fWul",
        "outputId": "f995cf4a-9940-4fe7-8252-d9085b149ca8"
      },
      "execution_count": null,
      "outputs": [
        {
          "output_type": "stream",
          "name": "stdout",
          "text": [
            "Enter a number: 10\n",
            "Enter a value: 5\n",
            "32, 1024, 7776, 32768, "
          ]
        }
      ]
    },
    {
      "cell_type": "code",
      "source": [
        "n=int(input(\"Enter a number: \"))\n",
        "e=int(input(\"Enter a value: \"))\n",
        "i=1\n",
        "while i<=n:\n",
        "  if i%2!=0:\n",
        "     def power(i,e):\n",
        "        res=0\n",
        "        for j in range(e):\n",
        "          res *= i\n",
        "        return res \n",
        "     print(pow(i,e),end=', ')\n",
        "  i=i+1"
      ],
      "metadata": {
        "colab": {
          "base_uri": "https://localhost:8080/"
        },
        "id": "wCaBvqGajRTr",
        "outputId": "3cd01ade-d215-4a5f-a435-b93ab08af242"
      },
      "execution_count": null,
      "outputs": [
        {
          "output_type": "stream",
          "name": "stdout",
          "text": [
            "Enter a number: 15\n",
            "Enter a value: 4\n",
            "1, 81, 625, 2401, 6561, 14641, 28561, 50625, "
          ]
        }
      ]
    },
    {
      "cell_type": "markdown",
      "source": [
        "x. n!(Where ! stands for factorial symbols)"
      ],
      "metadata": {
        "id": "JqY1jz4FfdKm"
      }
    },
    {
      "cell_type": "code",
      "source": [
        "n=int(input(\"Enter a number: \"))\n",
        "f=1\n",
        "for i in range(1,n + 1):\n",
        "       f = f*i\n",
        "print(f)"
      ],
      "metadata": {
        "colab": {
          "base_uri": "https://localhost:8080/"
        },
        "id": "uapMC2Rmf1EJ",
        "outputId": "37be3cc8-5178-4cd5-ab18-9b35dac222d0"
      },
      "execution_count": null,
      "outputs": [
        {
          "output_type": "stream",
          "name": "stdout",
          "text": [
            "Enter a number: 5\n",
            "120\n"
          ]
        }
      ]
    },
    {
      "cell_type": "code",
      "source": [
        "n=int(input(\"Enter a number: \"))\n",
        "f=1\n",
        "i=1\n",
        "while i<=n:\n",
        "  f=f*i\n",
        "  i=i+1\n",
        "print(f)"
      ],
      "metadata": {
        "colab": {
          "base_uri": "https://localhost:8080/"
        },
        "id": "bgR6PokzjY0q",
        "outputId": "0825df03-b1e0-4f5f-846f-3df1b729ba03"
      },
      "execution_count": null,
      "outputs": [
        {
          "output_type": "stream",
          "name": "stdout",
          "text": [
            "Enter a number: 4\n",
            "24\n"
          ]
        }
      ]
    },
    {
      "cell_type": "markdown",
      "source": [
        "xi. 1!,2!,3!,4!,.....,n"
      ],
      "metadata": {
        "id": "-EZzrx1YgAGn"
      }
    },
    {
      "cell_type": "code",
      "source": [
        "n=int(input(\"Enter a number: \"))\n",
        "for i in range(1,n):\n",
        "  f=1\n",
        "  for j in range(1,i+1):\n",
        "    f=f*j\n",
        "  print(f,end=', ')"
      ],
      "metadata": {
        "colab": {
          "base_uri": "https://localhost:8080/"
        },
        "id": "2ztHaNaTgH8Z",
        "outputId": "a5c8b857-f110-4253-e0dc-43c8cb9cc2c1"
      },
      "execution_count": null,
      "outputs": [
        {
          "output_type": "stream",
          "name": "stdout",
          "text": [
            "Enter a number: 10\n",
            "1, 2, 6, 24, 120, 720, 5040, 40320, 362880, "
          ]
        }
      ]
    },
    {
      "cell_type": "code",
      "source": [
        "n=int(input(\"Enter a number: \"))\n",
        "f=1\n",
        "i=1\n",
        "while i<=n:\n",
        "  f=f*i\n",
        "  print(f,end=', ')\n",
        "  i=i+1"
      ],
      "metadata": {
        "colab": {
          "base_uri": "https://localhost:8080/"
        },
        "id": "7zYz3CrDj6Ya",
        "outputId": "51a211ce-853b-45c6-d454-82fb170de57a"
      },
      "execution_count": null,
      "outputs": [
        {
          "output_type": "stream",
          "name": "stdout",
          "text": [
            "Enter a number: 5\n",
            "1, 2, 6, 24, 120, "
          ]
        }
      ]
    },
    {
      "cell_type": "markdown",
      "source": [
        "xii. 1!,3!,5!,7!,.....,n"
      ],
      "metadata": {
        "id": "uUwWSaQSgtm_"
      }
    },
    {
      "cell_type": "code",
      "source": [
        "n=int(input(\"Enter a number: \"))\n",
        "for i in range(1,n,2):\n",
        "  f=1\n",
        "  for j in range(1,i+1):\n",
        "    f=f*j\n",
        "  print(f,end=', ')"
      ],
      "metadata": {
        "colab": {
          "base_uri": "https://localhost:8080/"
        },
        "id": "R8zqL0Pig5QQ",
        "outputId": "89662e86-a145-453e-eed2-8cf607cd303b"
      },
      "execution_count": null,
      "outputs": [
        {
          "output_type": "stream",
          "name": "stdout",
          "text": [
            "Enter a number: 10\n",
            "1, 6, 120, 5040, 362880, "
          ]
        }
      ]
    },
    {
      "cell_type": "code",
      "source": [
        "from re import I\n",
        "n=int(input(\"Enter a number: \"))\n",
        "f=1\n",
        "i=1\n",
        "while i<=n:\n",
        "   if i%2==0:\n",
        "     f=f*i\n",
        "     print(f,end=', ')\n",
        "   i=i+1"
      ],
      "metadata": {
        "colab": {
          "base_uri": "https://localhost:8080/"
        },
        "id": "BnoVpNTrkAV0",
        "outputId": "6c39abfe-dff4-42f8-9fff-5d6521c14356"
      },
      "execution_count": null,
      "outputs": [
        {
          "output_type": "stream",
          "name": "stdout",
          "text": [
            "Enter a number: 15\n",
            "2, 8, 48, 384, 3840, 46080, 645120, "
          ]
        }
      ]
    },
    {
      "cell_type": "markdown",
      "source": [
        "xiii. 2!,4!,6!,8!,......,n"
      ],
      "metadata": {
        "id": "pzP6da8-g_TK"
      }
    },
    {
      "cell_type": "code",
      "source": [
        "n=int(input(\"Enter a number: \"))\n",
        "for i in range(2,n,2):\n",
        "  f=1\n",
        "  for j in range(1,i+1):\n",
        "    f=f*j\n",
        "  print(f,end=', ')"
      ],
      "metadata": {
        "colab": {
          "base_uri": "https://localhost:8080/"
        },
        "id": "R0nNSrEHhEko",
        "outputId": "3be94c5d-f099-47c9-f087-888884442a11"
      },
      "execution_count": null,
      "outputs": [
        {
          "output_type": "stream",
          "name": "stdout",
          "text": [
            "Enter a number: 20\n",
            "2, 24, 720, 40320, 3628800, 479001600, 87178291200, 20922789888000, 6402373705728000, "
          ]
        }
      ]
    },
    {
      "cell_type": "code",
      "source": [
        "from re import I\n",
        "n=int(input(\"Enter a number: \"))\n",
        "f=1\n",
        "i=1\n",
        "while i<=n:\n",
        "   if i%2!=0:\n",
        "     f=f*i\n",
        "     print(f,end=', ')\n",
        "   i=i+1"
      ],
      "metadata": {
        "colab": {
          "base_uri": "https://localhost:8080/"
        },
        "id": "nHQ_6s4-kIGs",
        "outputId": "99c43167-3070-4cd1-cd1d-ff261e679bcc"
      },
      "execution_count": null,
      "outputs": [
        {
          "output_type": "stream",
          "name": "stdout",
          "text": [
            "Enter a number: 10\n",
            "1, 3, 15, 105, 945, "
          ]
        }
      ]
    },
    {
      "cell_type": "markdown",
      "source": [
        "1. Using Keyboard Input for ‘n’.\n",
        "2. Using looping structures (for, while looping structure (DO THE SEPARATE LOOPING STRUCTURE))\n",
        "\n",
        "To fine sum the following:\n",
        "xiv. s=1+2+3+4,.....,n"
      ],
      "metadata": {
        "id": "quSXGKdqV0x0"
      }
    },
    {
      "cell_type": "code",
      "source": [
        "n=int(input(\"Enter a number: \"))\n",
        "s=0\n",
        "for i in range(1,n):\n",
        "  s=s+i\n",
        "  print('s=',s)"
      ],
      "metadata": {
        "colab": {
          "base_uri": "https://localhost:8080/"
        },
        "id": "qmwoD0wzWHRc",
        "outputId": "cf7cf360-4335-4456-849b-3c405cbc4ba7"
      },
      "execution_count": null,
      "outputs": [
        {
          "output_type": "stream",
          "name": "stdout",
          "text": [
            "Enter a number: 5\n",
            "s= 1\n",
            "s= 3\n",
            "s= 6\n",
            "s= 10\n"
          ]
        }
      ]
    },
    {
      "cell_type": "code",
      "source": [
        "n = int(input(\"Enter a number: \"))\n",
        "i=1\n",
        "s=0\n",
        "while i<=n:\n",
        "  s=s+i\n",
        "  print('s=',s)\n",
        "  i=i+1"
      ],
      "metadata": {
        "colab": {
          "base_uri": "https://localhost:8080/"
        },
        "id": "_hCTU0u-ZsO-",
        "outputId": "dc4a1a0f-64cd-4321-b24b-5b8cc1b28298"
      },
      "execution_count": null,
      "outputs": [
        {
          "output_type": "stream",
          "name": "stdout",
          "text": [
            "Enter a number: 10\n",
            "s= 1\n",
            "s= 3\n",
            "s= 6\n",
            "s= 10\n",
            "s= 15\n",
            "s= 21\n",
            "s= 28\n",
            "s= 36\n",
            "s= 45\n",
            "s= 55\n"
          ]
        }
      ]
    },
    {
      "cell_type": "markdown",
      "source": [
        "xv. s=1+3+5+7,....,n"
      ],
      "metadata": {
        "id": "qb8UaksMWQ0C"
      }
    },
    {
      "cell_type": "code",
      "source": [
        "n=int(input(\"Enter a number: \"))\n",
        "s=0\n",
        "for i in range(1,n,2):\n",
        "  s=s+i\n",
        "  print('s=',s)"
      ],
      "metadata": {
        "colab": {
          "base_uri": "https://localhost:8080/"
        },
        "id": "-UClxO36WXsI",
        "outputId": "87cc4709-f697-4f5b-b639-208b47f36fcc"
      },
      "execution_count": null,
      "outputs": [
        {
          "output_type": "stream",
          "name": "stdout",
          "text": [
            "Enter a number: 10\n",
            "s= 1\n",
            "s= 4\n",
            "s= 9\n",
            "s= 16\n",
            "s= 25\n"
          ]
        }
      ]
    },
    {
      "cell_type": "code",
      "source": [
        "n = int(input(\"Enter a number: \"))\n",
        "i=1\n",
        "s=0\n",
        "while i<=n:\n",
        "   if i%2==0:\n",
        "     s=s+i\n",
        "     print('s=',s)\n",
        "   i=i+1"
      ],
      "metadata": {
        "colab": {
          "base_uri": "https://localhost:8080/"
        },
        "id": "AYmmsOKUZy5o",
        "outputId": "f289f891-e2f9-45ae-83d6-0d3dedbac890"
      },
      "execution_count": null,
      "outputs": [
        {
          "output_type": "stream",
          "name": "stdout",
          "text": [
            "Enter a number: 10\n",
            "s= 2\n",
            "s= 6\n",
            "s= 12\n",
            "s= 20\n",
            "s= 30\n"
          ]
        }
      ]
    },
    {
      "cell_type": "markdown",
      "source": [
        "xvi. s=2+4+6+8,.....,n"
      ],
      "metadata": {
        "id": "lbQPYUyxWhO5"
      }
    },
    {
      "cell_type": "code",
      "source": [
        "n=int(input(\"Enter a number: \"))\n",
        "s=0\n",
        "for i in range(2,n,2):\n",
        "  s=s+i\n",
        "  print('s=',s)"
      ],
      "metadata": {
        "colab": {
          "base_uri": "https://localhost:8080/"
        },
        "id": "INuyN_yXWnBx",
        "outputId": "10c81815-9281-4d02-a00d-d39658ee8cc3"
      },
      "execution_count": null,
      "outputs": [
        {
          "output_type": "stream",
          "name": "stdout",
          "text": [
            "Enter a number: 10\n",
            "s= 2\n",
            "s= 6\n",
            "s= 12\n",
            "s= 20\n"
          ]
        }
      ]
    },
    {
      "cell_type": "code",
      "source": [
        "n = int(input(\"Enter a number: \"))\n",
        "i=1\n",
        "s=0\n",
        "while i<=n:\n",
        "   if i%2!=0:\n",
        "     s=s+i\n",
        "     print('s=',s)\n",
        "   i=i+1"
      ],
      "metadata": {
        "colab": {
          "base_uri": "https://localhost:8080/"
        },
        "id": "soUWPba2Z7IN",
        "outputId": "1e39b67a-893a-4deb-afe7-da7ac90a66d7"
      },
      "execution_count": null,
      "outputs": [
        {
          "output_type": "stream",
          "name": "stdout",
          "text": [
            "Enter a number: 10\n",
            "s= 1\n",
            "s= 4\n",
            "s= 9\n",
            "s= 16\n",
            "s= 25\n"
          ]
        }
      ]
    },
    {
      "cell_type": "markdown",
      "source": [
        "xvii. 1^2+2^2+3^2+4^2,.....,n"
      ],
      "metadata": {
        "id": "Qd60Y-43Wtyz"
      }
    },
    {
      "cell_type": "code",
      "source": [
        "n=int(input(\"Enter a number: \"))\n",
        "s=0\n",
        "for i in range(1,n):\n",
        "  c=i*i\n",
        "  s=s+c\n",
        "  print('s=',s)"
      ],
      "metadata": {
        "colab": {
          "base_uri": "https://localhost:8080/"
        },
        "id": "DKXm0kDKW12p",
        "outputId": "3bc99796-06b2-4de1-f837-1260c43f0a2e"
      },
      "execution_count": null,
      "outputs": [
        {
          "output_type": "stream",
          "name": "stdout",
          "text": [
            "Enter a number: 5\n",
            "s= 1\n",
            "s= 5\n",
            "s= 14\n",
            "s= 30\n"
          ]
        }
      ]
    },
    {
      "cell_type": "code",
      "source": [
        "n = int(input(\"Enter a number: \"))\n",
        "i=1\n",
        "s=0\n",
        "while i<=n:\n",
        "  c=i*i\n",
        "  s=s+c\n",
        "  print('s=',s)\n",
        "  i=i+1"
      ],
      "metadata": {
        "colab": {
          "base_uri": "https://localhost:8080/"
        },
        "id": "NhI-fPB3aBB1",
        "outputId": "179d41ae-1fd5-409c-b8c2-674918f15826"
      },
      "execution_count": null,
      "outputs": [
        {
          "output_type": "stream",
          "name": "stdout",
          "text": [
            "Enter a number: 5\n",
            "s= 1\n",
            "s= 5\n",
            "s= 14\n",
            "s= 30\n",
            "s= 55\n"
          ]
        }
      ]
    },
    {
      "cell_type": "markdown",
      "source": [
        "xviii. 1^2+3^2+5^2+7^2,....,n"
      ],
      "metadata": {
        "id": "RTjtf-s_W684"
      }
    },
    {
      "cell_type": "code",
      "source": [
        "n=int(input(\"Enter a number: \"))\n",
        "s=0\n",
        "for i in range(1,n,2):\n",
        "  c=i*i\n",
        "  s=s+c\n",
        "  print('s=',s)"
      ],
      "metadata": {
        "id": "AQnpmsQ9XK8Z"
      },
      "execution_count": null,
      "outputs": []
    },
    {
      "cell_type": "code",
      "source": [
        "n = int(input(\"Enter a number: \"))\n",
        "i=1\n",
        "s=0\n",
        "while i<=n:\n",
        "   if i%2!=0:\n",
        "     c=i*i\n",
        "     s=s+c\n",
        "     print('s=',s)\n",
        "   i=i+1"
      ],
      "metadata": {
        "colab": {
          "base_uri": "https://localhost:8080/"
        },
        "id": "k11ub6K2aFS_",
        "outputId": "4bc2c2c1-9004-4824-c974-b9e17b34f5dd"
      },
      "execution_count": null,
      "outputs": [
        {
          "output_type": "stream",
          "name": "stdout",
          "text": [
            "Enter a number: 10\n",
            "s= 1\n",
            "s= 10\n",
            "s= 35\n",
            "s= 84\n",
            "s= 165\n"
          ]
        }
      ]
    },
    {
      "cell_type": "markdown",
      "source": [
        "xix. 2^2+4^2+6^2+8^2,.......,n"
      ],
      "metadata": {
        "id": "gF9xshW6Xb2T"
      }
    },
    {
      "cell_type": "code",
      "source": [
        "n=int(input(\"Enter a number: \"))\n",
        "s=0\n",
        "for i in range(2,n,2):\n",
        "  c=i*i\n",
        "  s=s+c\n",
        "  print('s=',s)"
      ],
      "metadata": {
        "colab": {
          "base_uri": "https://localhost:8080/"
        },
        "id": "3iuF4Zt4XqaL",
        "outputId": "7f7a230c-ce1c-491f-d0eb-0d65c811aa18"
      },
      "execution_count": null,
      "outputs": [
        {
          "output_type": "stream",
          "name": "stdout",
          "text": [
            "Enter a number: 10\n",
            "s= 4\n",
            "s= 20\n",
            "s= 56\n",
            "s= 120\n"
          ]
        }
      ]
    },
    {
      "cell_type": "code",
      "source": [
        "n = int(input(\"Enter a number: \"))\n",
        "i=1\n",
        "s=0\n",
        "while i<=n:\n",
        "   if i%2==0:\n",
        "     c=i*i\n",
        "     s=s+c\n",
        "     print('s=',s)\n",
        "   i=i+1"
      ],
      "metadata": {
        "colab": {
          "base_uri": "https://localhost:8080/"
        },
        "id": "S2nt7UwzaLbg",
        "outputId": "39089fe9-170d-48d7-fc5a-70f9a32f8ce1"
      },
      "execution_count": null,
      "outputs": [
        {
          "output_type": "stream",
          "name": "stdout",
          "text": [
            "Enter a number: 10\n",
            "s= 4\n",
            "s= 20\n",
            "s= 56\n",
            "s= 120\n",
            "s= 220\n"
          ]
        }
      ]
    },
    {
      "cell_type": "markdown",
      "source": [
        "xx. 1^r+2^r+3^r+4^r,....,n"
      ],
      "metadata": {
        "id": "a5KzBUCoXwD-"
      }
    },
    {
      "cell_type": "code",
      "source": [
        "n=int(input(\"Enter a number: \"))\n",
        "e=int(input(\"Enter a value: \"))\n",
        "s=0\n",
        "for j in range(1,n):\n",
        "  def power(j,e):\n",
        "    res=0\n",
        "    for i in range(e):\n",
        "        res *= j\n",
        "    return res   \n",
        "  s=s+pow(j,e)\n",
        "  print('s=',s)"
      ],
      "metadata": {
        "colab": {
          "base_uri": "https://localhost:8080/"
        },
        "id": "twzIpDD1X5bS",
        "outputId": "c0f0bd4b-c998-47d7-a806-9273302ce622"
      },
      "execution_count": null,
      "outputs": [
        {
          "output_type": "stream",
          "name": "stdout",
          "text": [
            "Enter a number: 5\n",
            "Enter a value: 3\n",
            "s= 1\n",
            "s= 9\n",
            "s= 36\n",
            "s= 100\n"
          ]
        }
      ]
    },
    {
      "cell_type": "code",
      "source": [
        "n=int(input(\"Enter a number: \"))\n",
        "e=int(input(\"Enter a value: \"))\n",
        "i=1\n",
        "s=0\n",
        "while i<=n:\n",
        "  def power(i,e):\n",
        "    res=0\n",
        "    for j in range(e):\n",
        "        res *= i\n",
        "    return res   \n",
        "  s=s+pow(i,e)\n",
        "  print('s=',s)\n",
        "  i=i+1"
      ],
      "metadata": {
        "colab": {
          "base_uri": "https://localhost:8080/"
        },
        "id": "Xmxcco2eaRMp",
        "outputId": "54e4ab21-dfa6-43c1-fb30-26305ebac2ef"
      },
      "execution_count": null,
      "outputs": [
        {
          "output_type": "stream",
          "name": "stdout",
          "text": [
            "Enter a number: 5\n",
            "Enter a value: 3\n",
            "s= 1\n",
            "s= 9\n",
            "s= 36\n",
            "s= 100\n",
            "s= 225\n"
          ]
        }
      ]
    },
    {
      "cell_type": "markdown",
      "source": [
        "xxi. 1^r+3^r+5^r+7^r,.....,n"
      ],
      "metadata": {
        "id": "ULJfbFJNYBNT"
      }
    },
    {
      "cell_type": "code",
      "source": [
        "n=int(input(\"Enter a number: \"))\n",
        "e=int(input(\"Enter a value: \"))\n",
        "s=0\n",
        "for j in range(1,n,2):\n",
        "  def power(j,e):\n",
        "    res=0\n",
        "    for i in range(e):\n",
        "        res *= j\n",
        "    return res   \n",
        "  s=s+pow(j,e)\n",
        "  print('s=',s)"
      ],
      "metadata": {
        "colab": {
          "base_uri": "https://localhost:8080/"
        },
        "id": "_anjDAHAYIdz",
        "outputId": "4335af3f-9920-4a4b-895a-bc12ce0d2cab"
      },
      "execution_count": null,
      "outputs": [
        {
          "output_type": "stream",
          "name": "stdout",
          "text": [
            "Enter a number: 10\n",
            "Enter a value: 4\n",
            "s= 1\n",
            "s= 82\n",
            "s= 707\n",
            "s= 3108\n",
            "s= 9669\n"
          ]
        }
      ]
    },
    {
      "cell_type": "code",
      "source": [
        "n=int(input(\"Enter a number: \"))\n",
        "e=int(input(\"Enter a value: \"))\n",
        "i=1\n",
        "s=0\n",
        "while i<=n:\n",
        "  if i%2!=0:\n",
        "     def power(i,e):\n",
        "        res=0\n",
        "        for j in range(e):\n",
        "          res *= i\n",
        "        return res \n",
        "     s=s+pow(i,e)\n",
        "     print('s=',s)\n",
        "  i=i+1"
      ],
      "metadata": {
        "colab": {
          "base_uri": "https://localhost:8080/"
        },
        "id": "lPtV8jD8aaxv",
        "outputId": "91cd80d9-079f-4b33-8854-ceb245c71c8b"
      },
      "execution_count": null,
      "outputs": [
        {
          "output_type": "stream",
          "name": "stdout",
          "text": [
            "Enter a number: 10\n",
            "Enter a value: 3\n",
            "s= 1\n",
            "s= 28\n",
            "s= 153\n",
            "s= 496\n",
            "s= 1225\n"
          ]
        }
      ]
    },
    {
      "cell_type": "markdown",
      "source": [
        "xxii. 2^r+4^r+6^r+8^r,.....,n"
      ],
      "metadata": {
        "id": "lIVP454EYR3I"
      }
    },
    {
      "cell_type": "code",
      "source": [
        "n=int(input(\"Enter a number: \"))\n",
        "e=int(input(\"Enter a value: \"))\n",
        "s=0\n",
        "for j in range(2,n,2):\n",
        "  def power(j,e):\n",
        "    res=0\n",
        "    for i in range(e):\n",
        "        res *= j\n",
        "    return res   \n",
        "  s=s+pow(j,e)\n",
        "  print('s=',s)"
      ],
      "metadata": {
        "colab": {
          "base_uri": "https://localhost:8080/"
        },
        "id": "YQGDko2JYdcB",
        "outputId": "da7e45c8-9069-4706-b017-24326ec747fd"
      },
      "execution_count": null,
      "outputs": [
        {
          "output_type": "stream",
          "name": "stdout",
          "text": [
            "Enter a number: 10\n",
            "Enter a value: 4\n",
            "s= 16\n",
            "s= 272\n",
            "s= 1568\n",
            "s= 5664\n"
          ]
        }
      ]
    },
    {
      "cell_type": "code",
      "source": [
        "n=int(input(\"Enter a number: \"))\n",
        "e=int(input(\"Enter a value: \"))\n",
        "i=1\n",
        "s=0\n",
        "while i<=n:\n",
        "  if i%2==0:\n",
        "     def power(i,e):\n",
        "        res=0\n",
        "        for j in range(e):\n",
        "          res *= i\n",
        "        return res \n",
        "     s=s+pow(i,e)\n",
        "     print('s=',s)\n",
        "  i=i+1"
      ],
      "metadata": {
        "colab": {
          "base_uri": "https://localhost:8080/"
        },
        "id": "nmeDZqq3ahtH",
        "outputId": "95d6e26b-c403-4bb7-fb71-cadbb8388567"
      },
      "execution_count": null,
      "outputs": [
        {
          "output_type": "stream",
          "name": "stdout",
          "text": [
            "Enter a number: 10\n",
            "Enter a value: 4\n",
            "s= 16\n",
            "s= 272\n",
            "s= 1568\n",
            "s= 5664\n",
            "s= 15664\n"
          ]
        }
      ]
    },
    {
      "cell_type": "markdown",
      "source": [
        "xxiii. s=1!+2!+3!+4!,......,n"
      ],
      "metadata": {
        "id": "7qWpK7bWYjcL"
      }
    },
    {
      "cell_type": "code",
      "source": [
        "n=int(input(\"Enter a number: \"))\n",
        "s=0\n",
        "for i in range(1,n):\n",
        "  f=1\n",
        "  for j in range(1,i+1):\n",
        "    f=f*j\n",
        "  s=s+f\n",
        "  print('s=',s)"
      ],
      "metadata": {
        "colab": {
          "base_uri": "https://localhost:8080/"
        },
        "id": "q0aqqoESYtFM",
        "outputId": "a7fd4a4b-a2f9-4883-84ed-eab4e3cfc328"
      },
      "execution_count": null,
      "outputs": [
        {
          "output_type": "stream",
          "name": "stdout",
          "text": [
            "Enter a number: 5\n",
            "s= 1\n",
            "s= 3\n",
            "s= 9\n",
            "s= 33\n"
          ]
        }
      ]
    },
    {
      "cell_type": "code",
      "source": [
        "n=int(input(\"Enter a number: \"))\n",
        "f=1\n",
        "i=1\n",
        "s=0\n",
        "while i<=n:\n",
        "  f=f*i\n",
        "  s=s+f\n",
        "  print('s=',s)\n",
        "  i=i+1"
      ],
      "metadata": {
        "colab": {
          "base_uri": "https://localhost:8080/"
        },
        "id": "Cn-zCleearYb",
        "outputId": "a83ed855-c82f-4e87-de4d-92b9e89385ce"
      },
      "execution_count": null,
      "outputs": [
        {
          "output_type": "stream",
          "name": "stdout",
          "text": [
            "Enter a number: 5\n",
            "s= 1\n",
            "s= 3\n",
            "s= 9\n",
            "s= 33\n",
            "s= 153\n"
          ]
        }
      ]
    },
    {
      "cell_type": "markdown",
      "source": [
        "xxiv. s=1!+3!+5!+7!,......,n"
      ],
      "metadata": {
        "id": "dD-i11zqYyiZ"
      }
    },
    {
      "cell_type": "code",
      "source": [
        "n=int(input(\"Enter a number: \"))\n",
        "s=0\n",
        "for i in range(1,n,2):\n",
        "  f=1\n",
        "  for j in range(1,i+1):\n",
        "    f=f*j\n",
        "  s=s+f\n",
        "  print('s=',s)"
      ],
      "metadata": {
        "colab": {
          "base_uri": "https://localhost:8080/"
        },
        "id": "dgJh_vjkY51D",
        "outputId": "fbc6e76f-a8cb-4851-a0f2-97e4be6cb49f"
      },
      "execution_count": null,
      "outputs": [
        {
          "output_type": "stream",
          "name": "stdout",
          "text": [
            "Enter a number: 10\n",
            "s= 1\n",
            "s= 7\n",
            "s= 127\n",
            "s= 5167\n",
            "s= 368047\n"
          ]
        }
      ]
    },
    {
      "cell_type": "code",
      "source": [
        "from re import I\n",
        "n=int(input(\"Enter a number: \"))\n",
        "f=1\n",
        "i=1\n",
        "s=0\n",
        "while i<=n:\n",
        "   if i%2!=0:\n",
        "     f=f*i\n",
        "     s=s+f\n",
        "     print('s=',s)\n",
        "   i=i+1"
      ],
      "metadata": {
        "colab": {
          "base_uri": "https://localhost:8080/"
        },
        "id": "whN6Bexra1L4",
        "outputId": "8904fb07-39c2-47f6-b2e8-62c9cf81af97"
      },
      "execution_count": null,
      "outputs": [
        {
          "output_type": "stream",
          "name": "stdout",
          "text": [
            "Enter a number: 10\n",
            "s= 1\n",
            "s= 4\n",
            "s= 19\n",
            "s= 124\n",
            "s= 1069\n"
          ]
        }
      ]
    },
    {
      "cell_type": "markdown",
      "source": [
        "xxv. s=2!+4!+6!+8!,.....,n"
      ],
      "metadata": {
        "id": "3eO3urwYY_Od"
      }
    },
    {
      "cell_type": "code",
      "source": [
        "n=int(input(\"Enter a number: \"))\n",
        "s=0\n",
        "for i in range(2,n,2):\n",
        "  f=1\n",
        "  for j in range(1,i+1):\n",
        "    f=f*j\n",
        "  s=s+f\n",
        "  print('s=',s)"
      ],
      "metadata": {
        "colab": {
          "base_uri": "https://localhost:8080/"
        },
        "id": "d4dyFw-bZJll",
        "outputId": "d3012263-d015-49b0-86e6-70812da810f9"
      },
      "execution_count": null,
      "outputs": [
        {
          "output_type": "stream",
          "name": "stdout",
          "text": [
            "Enter a number: 10\n",
            "s= 2\n",
            "s= 26\n",
            "s= 746\n",
            "s= 41066\n"
          ]
        }
      ]
    },
    {
      "cell_type": "code",
      "source": [
        "from re import I\n",
        "n=int(input(\"Enter a number: \"))\n",
        "f=1\n",
        "i=1\n",
        "s=0\n",
        "while i<=n:\n",
        "   if i%2==0:\n",
        "     f=f*i\n",
        "     s=s+f\n",
        "     print('s=',s)\n",
        "   i=i+1"
      ],
      "metadata": {
        "colab": {
          "base_uri": "https://localhost:8080/"
        },
        "id": "Dxf9dvs4a_CF",
        "outputId": "442ae309-75c9-4a88-ca8f-343c659c52ba"
      },
      "execution_count": null,
      "outputs": [
        {
          "output_type": "stream",
          "name": "stdout",
          "text": [
            "Enter a number: 10\n",
            "s= 2\n",
            "s= 10\n",
            "s= 58\n",
            "s= 442\n",
            "s= 4282\n"
          ]
        }
      ]
    }
  ]
}