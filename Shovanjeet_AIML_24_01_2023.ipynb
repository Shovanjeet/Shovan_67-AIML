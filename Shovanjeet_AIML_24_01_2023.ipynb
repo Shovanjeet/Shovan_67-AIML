{
  "nbformat": 4,
  "nbformat_minor": 0,
  "metadata": {
    "colab": {
      "provenance": [],
      "authorship_tag": "ABX9TyP2aDgSf4XMk4UsMyrnyHlE",
      "include_colab_link": true
    },
    "kernelspec": {
      "name": "python3",
      "display_name": "Python 3"
    },
    "language_info": {
      "name": "python"
    }
  },
  "cells": [
    {
      "cell_type": "markdown",
      "metadata": {
        "id": "view-in-github",
        "colab_type": "text"
      },
      "source": [
        "<a href=\"https://colab.research.google.com/github/Shovanjeet/Shovan_67-AIML/blob/main/Shovanjeet_AIML_24_01_2023.ipynb\" target=\"_parent\"><img src=\"https://colab.research.google.com/assets/colab-badge.svg\" alt=\"Open In Colab\"/></a>"
      ]
    },
    {
      "cell_type": "markdown",
      "source": [
        "1.Input radius finds AREA OF CIRCLE and PERIMETER OF THE CIRCLE. "
      ],
      "metadata": {
        "id": "tXf7fTUNAa5i"
      }
    },
    {
      "cell_type": "code",
      "source": [
        "PI=3.14\n",
        "R=float(input(\"Enter radius of the circle:\"))\n",
        "area=(PI*R*R)\n",
        "perimeter=(2*PI*R)\n",
        "print(\"The area of the circle is\",area)\n",
        "print(\"The perimeter of circle is\",perimeter)"
      ],
      "metadata": {
        "colab": {
          "base_uri": "https://localhost:8080/"
        },
        "id": "gsr1MQlmAyYQ",
        "outputId": "e10121ff-1e3c-493b-97fb-f439e5928022"
      },
      "execution_count": null,
      "outputs": [
        {
          "output_type": "stream",
          "name": "stdout",
          "text": [
            "Enter radius of the circle:1.2\n",
            "The area of the circle is 4.521599999999999\n",
            "The perimeter of circle is 7.536\n"
          ]
        }
      ]
    },
    {
      "cell_type": "markdown",
      "source": [
        "2.Input Kilometer converts to centimeter, meter, and millimeter."
      ],
      "metadata": {
        "id": "jCv57y0vBX53"
      }
    },
    {
      "cell_type": "code",
      "source": [
        "km=int(input(\"Enter the distance between two cities in kilometers:\"))\n",
        "mtr=(km*1000)\n",
        "cent=(km*100000)\n",
        "print(\"Distance between two cities in meters:\",mtr)\n",
        "print(\"Distance between two cities in centimeters is:\",cent)"
      ],
      "metadata": {
        "colab": {
          "base_uri": "https://localhost:8080/"
        },
        "id": "6Dtuipy7BfcT",
        "outputId": "40874d47-b313-475d-86d6-c687c4ab52db"
      },
      "execution_count": null,
      "outputs": [
        {
          "output_type": "stream",
          "name": "stdout",
          "text": [
            "Enter the distance between two cities in kilometers:450\n",
            "Distance between two cities in meters: 450000\n",
            "Distance between two cities in centimeters is: 45000000\n"
          ]
        }
      ]
    },
    {
      "cell_type": "markdown",
      "source": [
        "3.Input two numbers find sum without ‘+’operator."
      ],
      "metadata": {
        "id": "6CFeRrt2CUX1"
      }
    },
    {
      "cell_type": "code",
      "source": [
        "a=int(input(\"ENTER a VALUE=\"))\n",
        "b=int(input(\"ENTER b VALUE\"))\n",
        "def sum(a,b):\n",
        "  for i in range(1,b + 1):\n",
        "    a= a+1\n",
        "  return a\n",
        "print('SUM OF NUMBERS=',sum(a,b))"
      ],
      "metadata": {
        "colab": {
          "base_uri": "https://localhost:8080/"
        },
        "id": "0l-qky1MCXiC",
        "outputId": "0691e6fa-264e-483d-bb79-c2a213618561"
      },
      "execution_count": null,
      "outputs": [
        {
          "output_type": "stream",
          "name": "stdout",
          "text": [
            "ENTER a VALUE=48\n",
            "ENTER b VALUE49\n",
            "SUM OF NUMBERS= 97\n"
          ]
        }
      ]
    },
    {
      "cell_type": "markdown",
      "source": [
        "4.Input two numbers find remainder without ‘%’."
      ],
      "metadata": {
        "id": "FltU4VRODghg"
      }
    },
    {
      "cell_type": "code",
      "source": [
        "a=int(input(\"ENTER a VALUE=\"))\n",
        "b=int(input(\"ENTER b VALUE=\"))\n",
        "def rem(a,b):\n",
        "  return(a-b*(a//b))\n",
        "print(\"THE REMINDER IS=\",rem(a,b))"
      ],
      "metadata": {
        "colab": {
          "base_uri": "https://localhost:8080/"
        },
        "id": "dZgVWPGKDjJ4",
        "outputId": "b2c90b0e-2b2a-45a3-afcf-3f3178939f6b"
      },
      "execution_count": null,
      "outputs": [
        {
          "output_type": "stream",
          "name": "stdout",
          "text": [
            "ENTER a VALUE=100\n",
            "ENTER b VALUE=7\n",
            "THE REMINDER IS= 2\n"
          ]
        }
      ]
    },
    {
      "cell_type": "markdown",
      "source": [
        "5.Input temperature finds Celsius and Fahrenheit and vice-versa."
      ],
      "metadata": {
        "id": "5LGzd_8_EU2J"
      }
    },
    {
      "cell_type": "code",
      "source": [
        "Celsius=float(input(\"Enter the value : \"))\n",
        "Fahrenheit= (Celsius * 1.8) + 32\n",
        "print(\"The Value in Fahrenheit\",Fahrenheit)\n",
        "Fahrenheit_f=float(input(\"Enter the value : \"))\n",
        "Celsius_c=int((Fahrenheit_f - 32) / 1.8)\n",
        "print(\"The Value in Celsius\",Celsius_c)"
      ],
      "metadata": {
        "colab": {
          "base_uri": "https://localhost:8080/"
        },
        "id": "8HlEKB8tEdgN",
        "outputId": "d8cc4145-4ae0-4dea-b16f-6069fa62bc2f"
      },
      "execution_count": null,
      "outputs": [
        {
          "output_type": "stream",
          "name": "stdout",
          "text": [
            "Enter the value : 23\n",
            "The Value in Fahrenheit 73.4\n",
            "Enter the value : 73.4\n",
            "The Value in Celsius 23\n"
          ]
        }
      ]
    },
    {
      "cell_type": "markdown",
      "source": [
        "6.Input a number finds reverse number without looping structure."
      ],
      "metadata": {
        "id": "dva8m4bOGFsq"
      }
    },
    {
      "cell_type": "code",
      "source": [
        "n=int(input('Enter the number: '))\n",
        "rev=int(str(n)[::-1])\n",
        "print('The reverse number is =',rev)"
      ],
      "metadata": {
        "colab": {
          "base_uri": "https://localhost:8080/"
        },
        "id": "Kx3jhzMBGLGC",
        "outputId": "729a8f51-3256-4f52-cb5a-5a398c75348e"
      },
      "execution_count": null,
      "outputs": [
        {
          "output_type": "stream",
          "name": "stdout",
          "text": [
            "Enter the number: 123\n",
            "The reverse number is = 321\n"
          ]
        }
      ]
    }
  ]
}