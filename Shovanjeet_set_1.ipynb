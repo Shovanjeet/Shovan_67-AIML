{
  "nbformat": 4,
  "nbformat_minor": 0,
  "metadata": {
    "colab": {
      "provenance": [],
      "authorship_tag": "ABX9TyPs2H+kaZQ59qU7WkW8lK53",
      "include_colab_link": true
    },
    "kernelspec": {
      "name": "python3",
      "display_name": "Python 3"
    },
    "language_info": {
      "name": "python"
    }
  },
  "cells": [
    {
      "cell_type": "markdown",
      "metadata": {
        "id": "view-in-github",
        "colab_type": "text"
      },
      "source": [
        "<a href=\"https://colab.research.google.com/github/Shovanjeet/Shovan_67-AIML/blob/main/Shovanjeet_set_1.ipynb\" target=\"_parent\"><img src=\"https://colab.research.google.com/assets/colab-badge.svg\" alt=\"Open In Colab\"/></a>"
      ]
    },
    {
      "cell_type": "markdown",
      "source": [
        "Steps used in individual PYTHON programming:\n",
        "1.\tUsing Keyboard Input for input n.\n",
        "2.\tUsing looping structures (for , while looping structure (DO THE SEPARATE LOOPING STRUCTURE))\n",
        "QUESTION: Write the PYHON programming to input n and print the following programs:\n",
        "i. 1,2,3,4,.....,n"
      ],
      "metadata": {
        "id": "EBLVImywb1k8"
      }
    },
    {
      "cell_type": "code",
      "source": [
        "n=int(input(\"Enter the number: \"))\n",
        "for i in range(n):\n",
        "  print(i+1,end=', ')"
      ],
      "metadata": {
        "colab": {
          "base_uri": "https://localhost:8080/"
        },
        "id": "BlmO1dzpc3bK",
        "outputId": "fc41dc4c-845f-49ae-8eda-a560c6bccfa7"
      },
      "execution_count": null,
      "outputs": [
        {
          "output_type": "stream",
          "name": "stdout",
          "text": [
            "Enter the number: 30\n",
            "1, 2, 3, 4, 5, 6, 7, 8, 9, 10, 11, 12, 13, 14, 15, 16, 17, 18, 19, 20, 21, 22, 23, 24, 25, 26, 27, 28, 29, 30, "
          ]
        }
      ]
    },
    {
      "cell_type": "code",
      "source": [
        "n = int(input(\"Enter a number: \"))\n",
        "i=1\n",
        "while i<=n:\n",
        "   print(i, end=', ')\n",
        "   i=i+1"
      ],
      "metadata": {
        "colab": {
          "base_uri": "https://localhost:8080/"
        },
        "id": "zDBp46Q9hV8a",
        "outputId": "44530561-f6b2-4050-f0f9-4c2f5cf81bd4"
      },
      "execution_count": null,
      "outputs": [
        {
          "output_type": "stream",
          "name": "stdout",
          "text": [
            "Enter a number: 10\n",
            "1, 2, 3, 4, 5, 6, 7, 8, 9, 10, "
          ]
        }
      ]
    },
    {
      "cell_type": "markdown",
      "source": [
        "ii. 1,3,5,7,.....,n"
      ],
      "metadata": {
        "id": "KBibvM0rdFcJ"
      }
    },
    {
      "cell_type": "code",
      "source": [
        "n=int(input(\"Enter the value: \"))\n",
        "for i in range(1,n,2):\n",
        "  print(i,end=', ')"
      ],
      "metadata": {
        "colab": {
          "base_uri": "https://localhost:8080/"
        },
        "id": "X9tXb__GdKCo",
        "outputId": "c6d08e03-877c-4cbf-9284-550d2ec21025"
      },
      "execution_count": null,
      "outputs": [
        {
          "output_type": "stream",
          "name": "stdout",
          "text": [
            "Enter the value: 15\n",
            "1, 3, 5, 7, 9, 11, 13, "
          ]
        }
      ]
    },
    {
      "cell_type": "code",
      "source": [
        "n = int(input(\"Enter a number: \"))\n",
        "i=1\n",
        "while i<=n:\n",
        "   if i%2==0:\n",
        "     print(i, end=', ')\n",
        "   i=i+1"
      ],
      "metadata": {
        "colab": {
          "base_uri": "https://localhost:8080/"
        },
        "id": "AgRAFR5YhfzY",
        "outputId": "5f9969a7-e9d9-43fc-c716-76818ee3d399"
      },
      "execution_count": null,
      "outputs": [
        {
          "output_type": "stream",
          "name": "stdout",
          "text": [
            "Enter a number: 20\n",
            "2, 4, 6, 8, 10, 12, 14, 16, 18, 20, "
          ]
        }
      ]
    },
    {
      "cell_type": "markdown",
      "source": [
        "iii. 2,4,6,8,.....,n"
      ],
      "metadata": {
        "id": "RzeSW82udWPK"
      }
    },
    {
      "cell_type": "code",
      "source": [
        "n=int(input(\"Enter the value: \"))\n",
        "for i in range(2,n,2):\n",
        "  print(i,end=', ')"
      ],
      "metadata": {
        "colab": {
          "base_uri": "https://localhost:8080/"
        },
        "id": "HOV3FeMmdawc",
        "outputId": "3599c6f9-9681-42f9-df02-0e3b5684db1f"
      },
      "execution_count": null,
      "outputs": [
        {
          "output_type": "stream",
          "name": "stdout",
          "text": [
            "Enter the value: 30\n",
            "2, 4, 6, 8, 10, 12, 14, 16, 18, 20, 22, 24, 26, 28, "
          ]
        }
      ]
    },
    {
      "cell_type": "code",
      "source": [
        "n = int(input(\"Enter a number: \"))\n",
        "i=1\n",
        "while i<=n:\n",
        "   if i%2!=0:\n",
        "     print(i, end=', ')\n",
        "   i=i+1"
      ],
      "metadata": {
        "colab": {
          "base_uri": "https://localhost:8080/"
        },
        "id": "XqpJBIDshlUy",
        "outputId": "69f0a08e-8402-4da5-e856-34960045090a"
      },
      "execution_count": null,
      "outputs": [
        {
          "output_type": "stream",
          "name": "stdout",
          "text": [
            "Enter a number: 20\n",
            "1, 3, 5, 7, 9, 11, 13, 15, 17, 19, "
          ]
        }
      ]
    },
    {
      "cell_type": "markdown",
      "source": [
        "iv. 1^2,2^2,3^2,4^2,......,n"
      ],
      "metadata": {
        "id": "n7cAcqQjdjZx"
      }
    },
    {
      "cell_type": "code",
      "source": [
        "n=int(input(\"Enter the number: \"))\n",
        "for i in range(1,n):\n",
        "  c=i*i\n",
        "  print(c,end=', ')"
      ],
      "metadata": {
        "colab": {
          "base_uri": "https://localhost:8080/"
        },
        "id": "P8y-Z19gdre4",
        "outputId": "8cce85a6-5971-4f51-cb28-cb8fc500b274"
      },
      "execution_count": null,
      "outputs": [
        {
          "output_type": "stream",
          "name": "stdout",
          "text": [
            "Enter the number: 15\n",
            "1, 4, 9, 16, 25, 36, 49, 64, 81, 100, 121, 144, 169, 196, "
          ]
        }
      ]
    },
    {
      "cell_type": "code",
      "source": [
        "n = int(input(\"Enter a number: \"))\n",
        "i=1\n",
        "while i<=n:\n",
        "  c=i*i\n",
        "  print(c, end=', ')\n",
        "  i=i+1"
      ],
      "metadata": {
        "colab": {
          "base_uri": "https://localhost:8080/"
        },
        "id": "2nbgxB2whu3s",
        "outputId": "5fec912e-4bea-4853-b564-bb696b90236e"
      },
      "execution_count": null,
      "outputs": [
        {
          "output_type": "stream",
          "name": "stdout",
          "text": [
            "Enter a number: 20\n",
            "1, 4, 9, 16, 25, 36, 49, 64, 81, 100, 121, 144, 169, 196, 225, 256, 289, 324, 361, 400, "
          ]
        }
      ]
    },
    {
      "cell_type": "markdown",
      "source": [
        "v. 1^2,3^2,5^2,7^2,......,n"
      ],
      "metadata": {
        "id": "FuWojutPd2dP"
      }
    },
    {
      "cell_type": "code",
      "source": [
        "n=int(input(\"Enter the number: \"))\n",
        "for i in range(1,n,2):\n",
        "  c=i*i\n",
        "  print(c,end=', ')"
      ],
      "metadata": {
        "colab": {
          "base_uri": "https://localhost:8080/"
        },
        "id": "hzT4Nv59d8KM",
        "outputId": "ca9666fd-6094-45c6-e3d0-6f0c830787ce"
      },
      "execution_count": null,
      "outputs": [
        {
          "output_type": "stream",
          "name": "stdout",
          "text": [
            "Enter the number: 15\n",
            "1, 9, 25, 49, 81, 121, 169, "
          ]
        }
      ]
    },
    {
      "cell_type": "code",
      "source": [
        "n = int(input(\"Enter a number: \"))\n",
        "i=1\n",
        "while i<=n:\n",
        "  if i%2==0:\n",
        "    c=i*i\n",
        "    print(c, end=', ')\n",
        "  i=i+1"
      ],
      "metadata": {
        "colab": {
          "base_uri": "https://localhost:8080/"
        },
        "id": "LBDh28FLh6ZJ",
        "outputId": "160a07ec-e683-4a8f-f4b7-80bd7d269842"
      },
      "execution_count": null,
      "outputs": [
        {
          "output_type": "stream",
          "name": "stdout",
          "text": [
            "Enter a number: 20\n",
            "4, 16, 36, 64, 100, 144, 196, 256, 324, 400, "
          ]
        }
      ]
    },
    {
      "cell_type": "markdown",
      "source": [
        "vi. 2^2,4^2,6^2,8^2,......,n"
      ],
      "metadata": {
        "id": "TPYre-LoeDgB"
      }
    },
    {
      "cell_type": "code",
      "source": [
        "n=int(input(\"Enter the number: \"))\n",
        "for i in range(2,n,2):\n",
        "  c=i*i\n",
        "  print(c,end=', ')"
      ],
      "metadata": {
        "colab": {
          "base_uri": "https://localhost:8080/"
        },
        "id": "0BdZglBseKaN",
        "outputId": "401709fe-b5de-4b5f-ac08-f2ac770d17c4"
      },
      "execution_count": null,
      "outputs": [
        {
          "output_type": "stream",
          "name": "stdout",
          "text": [
            "Enter the number: 15\n",
            "4, 16, 36, 64, 100, 144, 196, "
          ]
        }
      ]
    },
    {
      "cell_type": "code",
      "source": [
        "n = int(input(\"Enter a number: \"))\n",
        "i=1\n",
        "while i<=n:\n",
        "  if i%2!=0:\n",
        "    c=i*i\n",
        "    print(c, end=', ')\n",
        "  i=i+1"
      ],
      "metadata": {
        "colab": {
          "base_uri": "https://localhost:8080/"
        },
        "id": "C8ewh0j0i-F_",
        "outputId": "5f942f50-a3da-409a-e0d6-657ddf5c8a3d"
      },
      "execution_count": null,
      "outputs": [
        {
          "output_type": "stream",
          "name": "stdout",
          "text": [
            "Enter a number: 20\n",
            "1, 9, 25, 49, 81, 121, 169, 225, 289, 361, "
          ]
        }
      ]
    },
    {
      "cell_type": "markdown",
      "source": [
        "vii. 1^r,2^r,3^r,4^r,.......,n(Input r also)"
      ],
      "metadata": {
        "id": "OpNYhiZ1eR1W"
      }
    },
    {
      "cell_type": "code",
      "source": [
        "n=int(input(\"Enter a number: \"))\n",
        "e=int(input(\"Enter a value: \"))\n",
        "for j in range(1,n):\n",
        "  def power(j,e):\n",
        "    res=0\n",
        "    for i in range(e):\n",
        "        res *= j\n",
        "    return res   \n",
        "  print(pow(j,e),end=', ')"
      ],
      "metadata": {
        "colab": {
          "base_uri": "https://localhost:8080/"
        },
        "id": "kljQvW6Hedph",
        "outputId": "ebc01aba-5ddc-41bb-e382-173ed2c52333"
      },
      "execution_count": null,
      "outputs": [
        {
          "output_type": "stream",
          "name": "stdout",
          "text": [
            "Enter a number: 20\n",
            "Enter a value: 5\n",
            "1, 32, 243, 1024, 3125, 7776, 16807, 32768, 59049, 100000, 161051, 248832, 371293, 537824, 759375, 1048576, 1419857, 1889568, 2476099, "
          ]
        }
      ]
    },
    {
      "cell_type": "code",
      "source": [
        "n=int(input(\"Enter a number: \"))\n",
        "e=int(input(\"Enter a value: \"))\n",
        "i=1\n",
        "while i<=n:\n",
        "  def power(i,e):\n",
        "    res=0\n",
        "    for j in range(e):\n",
        "        res *= i\n",
        "    return res   \n",
        "  print(pow(i,e),end=', ')\n",
        "  i=i+1"
      ],
      "metadata": {
        "colab": {
          "base_uri": "https://localhost:8080/"
        },
        "id": "yMAHfzWbjEXM",
        "outputId": "7606b77c-908d-4cf4-c58f-851d7929a57c"
      },
      "execution_count": null,
      "outputs": [
        {
          "output_type": "stream",
          "name": "stdout",
          "text": [
            "Enter a number: 10\n",
            "Enter a value: 5\n",
            "1, 32, 243, 1024, 3125, 7776, 16807, 32768, 59049, 100000, "
          ]
        }
      ]
    },
    {
      "cell_type": "markdown",
      "source": [
        "viii. 1^r,3^r,5^r,7^r,......,n(Input r also)"
      ],
      "metadata": {
        "id": "oMW9PjGUeoLW"
      }
    },
    {
      "cell_type": "code",
      "source": [
        "n=int(input(\"Enter a number: \"))\n",
        "e=int(input(\"Enter a value: \"))\n",
        "for j in range(1,n,2):\n",
        "  def power(j,e):\n",
        "    res=0\n",
        "    for i in range(e):\n",
        "        res *= j\n",
        "    return res   \n",
        "  print(pow(j,e),end=', ')"
      ],
      "metadata": {
        "colab": {
          "base_uri": "https://localhost:8080/"
        },
        "id": "fkLc9uP4fD7k",
        "outputId": "0b8ad08a-f437-4c24-fe76-8c13b857d3a3"
      },
      "execution_count": null,
      "outputs": [
        {
          "output_type": "stream",
          "name": "stdout",
          "text": [
            "Enter a number: 10\n",
            "Enter a value: 5\n",
            "1, 243, 3125, 16807, 59049, "
          ]
        }
      ]
    },
    {
      "cell_type": "code",
      "source": [
        "n=int(input(\"Enter a number: \"))\n",
        "e=int(input(\"Enter a value: \"))\n",
        "i=1\n",
        "while i<=n:\n",
        "  if i%2==0:\n",
        "     def power(i,e):\n",
        "        res=0\n",
        "        for j in range(e):\n",
        "          res *= i\n",
        "        return res \n",
        "     print(pow(i,e),end=', ')\n",
        "  i=i+1"
      ],
      "metadata": {
        "colab": {
          "base_uri": "https://localhost:8080/"
        },
        "id": "cGp7ljzRjKzW",
        "outputId": "0c7b5394-1818-46d7-b9f5-fe2343516bc3"
      },
      "execution_count": null,
      "outputs": [
        {
          "output_type": "stream",
          "name": "stdout",
          "text": [
            "Enter a number: 15\n",
            "Enter a value: 5\n",
            "32, 1024, 7776, 32768, 100000, 248832, 537824, "
          ]
        }
      ]
    },
    {
      "cell_type": "markdown",
      "source": [
        "ix. 2^r,4^r,6^r,8^r,.......,n(Input r also)"
      ],
      "metadata": {
        "id": "ebBD4oIsfLZ3"
      }
    },
    {
      "cell_type": "code",
      "source": [
        "n=int(input(\"Enter a number: \"))\n",
        "e=int(input(\"Enter a value: \"))\n",
        "for j in range(2,n,2):\n",
        "  def power(j,e):\n",
        "    res=0\n",
        "    for i in range(e):\n",
        "        res *= j\n",
        "    return res   \n",
        "  print(pow(j,e),end=', ')"
      ],
      "metadata": {
        "colab": {
          "base_uri": "https://localhost:8080/"
        },
        "id": "9DhLbL64fWul",
        "outputId": "f995cf4a-9940-4fe7-8252-d9085b149ca8"
      },
      "execution_count": null,
      "outputs": [
        {
          "output_type": "stream",
          "name": "stdout",
          "text": [
            "Enter a number: 10\n",
            "Enter a value: 5\n",
            "32, 1024, 7776, 32768, "
          ]
        }
      ]
    },
    {
      "cell_type": "code",
      "source": [
        "n=int(input(\"Enter a number: \"))\n",
        "e=int(input(\"Enter a value: \"))\n",
        "i=1\n",
        "while i<=n:\n",
        "  if i%2!=0:\n",
        "     def power(i,e):\n",
        "        res=0\n",
        "        for j in range(e):\n",
        "          res *= i\n",
        "        return res \n",
        "     print(pow(i,e),end=', ')\n",
        "  i=i+1"
      ],
      "metadata": {
        "colab": {
          "base_uri": "https://localhost:8080/"
        },
        "id": "wCaBvqGajRTr",
        "outputId": "3cd01ade-d215-4a5f-a435-b93ab08af242"
      },
      "execution_count": null,
      "outputs": [
        {
          "output_type": "stream",
          "name": "stdout",
          "text": [
            "Enter a number: 15\n",
            "Enter a value: 4\n",
            "1, 81, 625, 2401, 6561, 14641, 28561, 50625, "
          ]
        }
      ]
    },
    {
      "cell_type": "markdown",
      "source": [
        "x. n!(Where ! stands for factorial symbols)"
      ],
      "metadata": {
        "id": "JqY1jz4FfdKm"
      }
    },
    {
      "cell_type": "code",
      "source": [
        "n=int(input(\"Enter a number: \"))\n",
        "f=1\n",
        "for i in range(1,n + 1):\n",
        "       f = f*i\n",
        "print(f)"
      ],
      "metadata": {
        "colab": {
          "base_uri": "https://localhost:8080/"
        },
        "id": "uapMC2Rmf1EJ",
        "outputId": "37be3cc8-5178-4cd5-ab18-9b35dac222d0"
      },
      "execution_count": null,
      "outputs": [
        {
          "output_type": "stream",
          "name": "stdout",
          "text": [
            "Enter a number: 5\n",
            "120\n"
          ]
        }
      ]
    },
    {
      "cell_type": "code",
      "source": [
        "n=int(input(\"Enter a number: \"))\n",
        "f=1\n",
        "i=1\n",
        "while i<=n:\n",
        "  f=f*i\n",
        "  i=i+1\n",
        "print(f)"
      ],
      "metadata": {
        "colab": {
          "base_uri": "https://localhost:8080/"
        },
        "id": "bgR6PokzjY0q",
        "outputId": "0825df03-b1e0-4f5f-846f-3df1b729ba03"
      },
      "execution_count": null,
      "outputs": [
        {
          "output_type": "stream",
          "name": "stdout",
          "text": [
            "Enter a number: 4\n",
            "24\n"
          ]
        }
      ]
    },
    {
      "cell_type": "markdown",
      "source": [
        "xi. 1!,2!,3!,4!,.....,n"
      ],
      "metadata": {
        "id": "-EZzrx1YgAGn"
      }
    },
    {
      "cell_type": "code",
      "source": [
        "n=int(input(\"Enter a number: \"))\n",
        "for i in range(1,n):\n",
        "  f=1\n",
        "  for j in range(1,i+1):\n",
        "    f=f*j\n",
        "  print(f,end=', ')"
      ],
      "metadata": {
        "colab": {
          "base_uri": "https://localhost:8080/"
        },
        "id": "2ztHaNaTgH8Z",
        "outputId": "a5c8b857-f110-4253-e0dc-43c8cb9cc2c1"
      },
      "execution_count": null,
      "outputs": [
        {
          "output_type": "stream",
          "name": "stdout",
          "text": [
            "Enter a number: 10\n",
            "1, 2, 6, 24, 120, 720, 5040, 40320, 362880, "
          ]
        }
      ]
    },
    {
      "cell_type": "code",
      "source": [
        "n=int(input(\"Enter a number: \"))\n",
        "f=1\n",
        "i=1\n",
        "while i<=n:\n",
        "  f=f*i\n",
        "  print(f,end=', ')\n",
        "  i=i+1"
      ],
      "metadata": {
        "colab": {
          "base_uri": "https://localhost:8080/"
        },
        "id": "7zYz3CrDj6Ya",
        "outputId": "51a211ce-853b-45c6-d454-82fb170de57a"
      },
      "execution_count": null,
      "outputs": [
        {
          "output_type": "stream",
          "name": "stdout",
          "text": [
            "Enter a number: 5\n",
            "1, 2, 6, 24, 120, "
          ]
        }
      ]
    },
    {
      "cell_type": "markdown",
      "source": [
        "xii. 1!,3!,5!,7!,.....,n"
      ],
      "metadata": {
        "id": "uUwWSaQSgtm_"
      }
    },
    {
      "cell_type": "code",
      "source": [
        "n=int(input(\"Enter a number: \"))\n",
        "for i in range(1,n,2):\n",
        "  f=1\n",
        "  for j in range(1,i+1):\n",
        "    f=f*j\n",
        "  print(f,end=', ')"
      ],
      "metadata": {
        "colab": {
          "base_uri": "https://localhost:8080/"
        },
        "id": "R8zqL0Pig5QQ",
        "outputId": "89662e86-a145-453e-eed2-8cf607cd303b"
      },
      "execution_count": null,
      "outputs": [
        {
          "output_type": "stream",
          "name": "stdout",
          "text": [
            "Enter a number: 10\n",
            "1, 6, 120, 5040, 362880, "
          ]
        }
      ]
    },
    {
      "cell_type": "code",
      "source": [
        "from re import I\n",
        "n=int(input(\"Enter a number: \"))\n",
        "f=1\n",
        "i=1\n",
        "while i<=n:\n",
        "   if i%2==0:\n",
        "     f=f*i\n",
        "     print(f,end=', ')\n",
        "   i=i+1"
      ],
      "metadata": {
        "colab": {
          "base_uri": "https://localhost:8080/"
        },
        "id": "BnoVpNTrkAV0",
        "outputId": "6c39abfe-dff4-42f8-9fff-5d6521c14356"
      },
      "execution_count": null,
      "outputs": [
        {
          "output_type": "stream",
          "name": "stdout",
          "text": [
            "Enter a number: 15\n",
            "2, 8, 48, 384, 3840, 46080, 645120, "
          ]
        }
      ]
    },
    {
      "cell_type": "markdown",
      "source": [
        "xiii. 2!,4!,6!,8!,......,n"
      ],
      "metadata": {
        "id": "pzP6da8-g_TK"
      }
    },
    {
      "cell_type": "code",
      "source": [
        "n=int(input(\"Enter a number: \"))\n",
        "for i in range(2,n,2):\n",
        "  f=1\n",
        "  for j in range(1,i+1):\n",
        "    f=f*j\n",
        "  print(f,end=', ')"
      ],
      "metadata": {
        "colab": {
          "base_uri": "https://localhost:8080/"
        },
        "id": "R0nNSrEHhEko",
        "outputId": "3be94c5d-f099-47c9-f087-888884442a11"
      },
      "execution_count": null,
      "outputs": [
        {
          "output_type": "stream",
          "name": "stdout",
          "text": [
            "Enter a number: 20\n",
            "2, 24, 720, 40320, 3628800, 479001600, 87178291200, 20922789888000, 6402373705728000, "
          ]
        }
      ]
    },
    {
      "cell_type": "code",
      "source": [
        "from re import I\n",
        "n=int(input(\"Enter a number: \"))\n",
        "f=1\n",
        "i=1\n",
        "while i<=n:\n",
        "   if i%2!=0:\n",
        "     f=f*i\n",
        "     print(f,end=', ')\n",
        "   i=i+1"
      ],
      "metadata": {
        "colab": {
          "base_uri": "https://localhost:8080/"
        },
        "id": "nHQ_6s4-kIGs",
        "outputId": "99c43167-3070-4cd1-cd1d-ff261e679bcc"
      },
      "execution_count": null,
      "outputs": [
        {
          "output_type": "stream",
          "name": "stdout",
          "text": [
            "Enter a number: 10\n",
            "1, 3, 15, 105, 945, "
          ]
        }
      ]
    }
  ]
}