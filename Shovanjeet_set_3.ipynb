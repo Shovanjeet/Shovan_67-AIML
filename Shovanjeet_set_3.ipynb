{
  "nbformat": 4,
  "nbformat_minor": 0,
  "metadata": {
    "colab": {
      "provenance": [],
      "authorship_tag": "ABX9TyPgw9qyVLVAORpTcO1EKSBa",
      "include_colab_link": true
    },
    "kernelspec": {
      "name": "python3",
      "display_name": "Python 3"
    },
    "language_info": {
      "name": "python"
    }
  },
  "cells": [
    {
      "cell_type": "markdown",
      "metadata": {
        "id": "view-in-github",
        "colab_type": "text"
      },
      "source": [
        "<a href=\"https://colab.research.google.com/github/Shovanjeet/Shovan_67-AIML/blob/main/Shovanjeet_set_3.ipynb\" target=\"_parent\"><img src=\"https://colab.research.google.com/assets/colab-badge.svg\" alt=\"Open In Colab\"/></a>"
      ]
    },
    {
      "cell_type": "markdown",
      "source": [
        "Write a PYTHON programming using if, if…else and elif statements:\n",
        "1. A company decided to give bonus of 5% to employee if his/her year of service is more than 5 years. Ask user for their salary and year of service and print the net bonus amount."
      ],
      "metadata": {
        "id": "b4iKZHXVjuI5"
      }
    },
    {
      "cell_type": "code",
      "source": [
        "Sal=float(input('Enter the salary of the employee = '))\n",
        "Y_S=int(input('Enter the year of service of the employee ='))\n",
        "if(Y_S>5):\n",
        "  Bonus=Sal*5/100\n",
        "  print('Your bonus amount = ',Bonus)"
      ],
      "metadata": {
        "colab": {
          "base_uri": "https://localhost:8080/"
        },
        "id": "3ldGB3xVjxy1",
        "outputId": "07b31741-c763-48f1-b3d2-b7549849afb3"
      },
      "execution_count": null,
      "outputs": [
        {
          "output_type": "stream",
          "name": "stdout",
          "text": [
            "Enter the salary of the employee = 6000\n",
            "Enter the year of service of the employee =6\n",
            "Your bonus amount =  300.0\n"
          ]
        }
      ]
    },
    {
      "cell_type": "markdown",
      "source": [
        "2. Take values of length and breadth of a rectangle from user and check if it is square or not."
      ],
      "metadata": {
        "id": "psw8HC_lkKu4"
      }
    },
    {
      "cell_type": "code",
      "source": [
        "l=int(input('ENTER THE LENGTH OF THE RECTANGLE = '))\n",
        "b=int(input('ENTER THE BREADTH OF THE RECTANGLE = '))\n",
        "if (l==b):\n",
        "  print('THIS IS A SQUARE')\n",
        "else:\n",
        "  print('THIS IS NOT A SQUARE')"
      ],
      "metadata": {
        "colab": {
          "base_uri": "https://localhost:8080/"
        },
        "id": "DF73oCadkNs5",
        "outputId": "94e68d37-9559-4531-c1bf-5a230ad2c0ec"
      },
      "execution_count": null,
      "outputs": [
        {
          "output_type": "stream",
          "name": "stdout",
          "text": [
            "ENTER THE LENGTH OF THE RECTANGLE = 5\n",
            "ENTER THE BREADTH OF THE RECTANGLE = 5\n",
            "THIS IS A SQUARE\n"
          ]
        }
      ]
    },
    {
      "cell_type": "markdown",
      "source": [
        "3. Take two int values from user and print greatest among them."
      ],
      "metadata": {
        "id": "3Su5ON2RkUTb"
      }
    },
    {
      "cell_type": "code",
      "source": [
        "a=int(input(\"Enter the value of a: \"))\n",
        "b=int(input(\"Enter the value of b: \"))\n",
        "if a>b:\n",
        "  print(a,'is greatest')\n",
        "else:\n",
        "  print(b,'is greatest')"
      ],
      "metadata": {
        "colab": {
          "base_uri": "https://localhost:8080/"
        },
        "id": "DKVQLeoukXiC",
        "outputId": "d3d3d0ab-a67b-42b3-82d2-46d543c8ced1"
      },
      "execution_count": null,
      "outputs": [
        {
          "output_type": "stream",
          "name": "stdout",
          "text": [
            "Enter the value of a: 7\n",
            "Enter the value of b: 4\n",
            "7 is greatest\n"
          ]
        }
      ]
    },
    {
      "cell_type": "markdown",
      "source": [
        "4. A shop will give discount of 10% if the cost of purchased quantity is more than 1000.\n",
        "Ask user for quantity suppose, one unit will cost 100. Judge and print total cost for user.\n"
      ],
      "metadata": {
        "id": "wNdUDymZkeH-"
      }
    },
    {
      "cell_type": "code",
      "source": [
        "quantity=int(input('enter the amount of purchased quantity = '))\n",
        "cost=int(quantity*100)\n",
        "Ta=float(cost-(cost*10/100))\n",
        "if(cost>1000):\n",
        "  print('the total amount = ',Ta)\n",
        "else:\n",
        "  print('your total amount will be =',cost,)"
      ],
      "metadata": {
        "colab": {
          "base_uri": "https://localhost:8080/"
        },
        "id": "iZA3OaAakib0",
        "outputId": "489eca6a-61c2-48f2-b425-111b2b04cd27"
      },
      "execution_count": null,
      "outputs": [
        {
          "output_type": "stream",
          "name": "stdout",
          "text": [
            "enter the amount of purchased quantity = 7\n",
            "your total amount will be = 700\n"
          ]
        }
      ]
    },
    {
      "cell_type": "markdown",
      "source": [
        "5. A school has following rules for grading system:\n",
        "a. Below 25 - F\n",
        "b. 25 to 45 - E\n",
        "c. 45 to 50 - D\n",
        "d. 50 to 60 - C\n",
        "e. 60 to 80 - B\n",
        "f. Above 80 - A\n",
        "Ask user to enter marks and print the corresponding grade."
      ],
      "metadata": {
        "id": "TaYvqs5DkoXB"
      }
    },
    {
      "cell_type": "code",
      "source": [
        "mark=float(input(\"Enter marks: \"))\n",
        "if mark<25:\n",
        "  print('Grade is F')\n",
        "elif (mark>=25) and (mark<45):\n",
        "  print('Garde is E')\n",
        "elif (mark>=45) and (mark<50):\n",
        "  print('Garde is D')\n",
        "elif (mark>=50) and (mark<60):\n",
        "  print('Garde is C')\n",
        "elif (mark>=60) and (mark<80):\n",
        "  print('Garde is B')\n",
        "elif mark>80:\n",
        "  print('Garde is A')\n",
        "else:\n",
        "  print(['Data not found.'])"
      ],
      "metadata": {
        "colab": {
          "base_uri": "https://localhost:8080/"
        },
        "id": "_PCvEEsyly0J",
        "outputId": "0f29eda8-2a71-461a-9c36-8d5f4bddc4a7"
      },
      "execution_count": null,
      "outputs": [
        {
          "output_type": "stream",
          "name": "stdout",
          "text": [
            "Enter marks: 85.2\n",
            "Garde is A\n"
          ]
        }
      ]
    },
    {
      "cell_type": "markdown",
      "source": [
        "6. Take input of age of 3 people by user and determine oldest and youngest among them."
      ],
      "metadata": {
        "id": "3R_esxADl7OO"
      }
    },
    {
      "cell_type": "code",
      "source": [
        "A=int(input(\"Enter the age of A: \"))\n",
        "B=int(input(\"Enter the age of B: \"))\n",
        "C=int(input(\"Enter the age of C: \"))\n",
        "if A>B:\n",
        "  print('A is Oldest.')\n",
        "elif B>C:\n",
        "  print('B is Oldest.')\n",
        "else:\n",
        "  print('C is Oldest')"
      ],
      "metadata": {
        "colab": {
          "base_uri": "https://localhost:8080/"
        },
        "id": "GKDXQ7bJmDY2",
        "outputId": "23d5a828-f811-469f-ae46-8386a45a93fa"
      },
      "execution_count": null,
      "outputs": [
        {
          "output_type": "stream",
          "name": "stdout",
          "text": [
            "Enter the age of A: 70\n",
            "Enter the age of B: 67\n",
            "Enter the age of C: 78\n",
            "A is Oldest.\n"
          ]
        }
      ]
    },
    {
      "cell_type": "markdown",
      "source": [
        "7. Write a program to print absolute vlaue of a number entered by user. E.g.-\n",
        "INPUT: 1        OUTPUT: 1\n",
        "INPUT: -1       OUTPUT: 1"
      ],
      "metadata": {
        "id": "CyB3uSIyngt1"
      }
    },
    {
      "cell_type": "code",
      "source": [
        "n=int(input(\"Enter a number\"))\n",
        "output=abs(n)\n",
        "if output == abs(n):\n",
        "  print('Output:',output)"
      ],
      "metadata": {
        "colab": {
          "base_uri": "https://localhost:8080/"
        },
        "id": "qLaQWuQEnkEh",
        "outputId": "26d675d7-5d6e-4084-8e23-d0534e92ba67"
      },
      "execution_count": null,
      "outputs": [
        {
          "output_type": "stream",
          "name": "stdout",
          "text": [
            "Enter a number-2\n",
            "Output: 2\n"
          ]
        }
      ]
    },
    {
      "cell_type": "markdown",
      "source": [
        "8. A student will not be allowed to sit in exam if his/her attendence is less than 75%.\n",
        "Take following input from user\n",
        "Number of classes held\n",
        "Number of classes attended.\n",
        "And print\n",
        "percentage of class attended\n",
        "Is student is allowed to sit in exam or not."
      ],
      "metadata": {
        "id": "0H-0TtqtU5D-"
      }
    },
    {
      "cell_type": "code",
      "source": [
        "NC=int(input('Enter no of classes: '))\n",
        "NCA=int(input('Enter no of classes attended: '))\n",
        "Prc=(NCA/NC)*100\n",
        "print('Percentage of class attended: ',Prc,'%')\n",
        "if Prc<75:\n",
        "  print(\"Student is not allowed to sit in exam.\")\n",
        "else:\n",
        "  print(\"Student is allowed to sit in exam.\")"
      ],
      "metadata": {
        "colab": {
          "base_uri": "https://localhost:8080/"
        },
        "id": "XVvyfLeNU_Qw",
        "outputId": "538b90ce-1441-4340-960d-ecb38322d12e"
      },
      "execution_count": null,
      "outputs": [
        {
          "output_type": "stream",
          "name": "stdout",
          "text": [
            "Enter no of classes: 100\n",
            "Enter no of classes attended: 80\n",
            "Percentage of class attended:  80.0 %\n",
            "Student is allowed to sit in exam.\n"
          ]
        }
      ]
    },
    {
      "cell_type": "markdown",
      "source": [
        "9. Traffic light:\n",
        "Write a python program that will check for the following conditions:\n",
        "If the light is green – Car is allowed to go\n",
        "If the light is yellow – Car has to wait\n",
        "If the light is red – Car has to stop"
      ],
      "metadata": {
        "id": "jUhIpFA7VMFs"
      }
    },
    {
      "cell_type": "code",
      "source": [
        "light=str(input('THE COLOR OF THE TRAFFIC LIGHT IS : '))\n",
        "if(light=='green'):\n",
        "  print('CAR IS ALLOWED TO GO !')\n",
        "elif(light=='yellow'):\n",
        "  print('CAR HAS TO WAIT !')\n",
        "else:\n",
        "  print('CAR HAS TO STOP !')"
      ],
      "metadata": {
        "colab": {
          "base_uri": "https://localhost:8080/"
        },
        "id": "A2dwKqUEVQfm",
        "outputId": "4b7cfa3f-a0b4-4dc3-f0ad-1ef6da80fd68"
      },
      "execution_count": null,
      "outputs": [
        {
          "output_type": "stream",
          "name": "stdout",
          "text": [
            "THE COLOR OF THE TRAFFIC LIGHT IS : green\n",
            "CAR IS ALLOWED TO GO !\n"
          ]
        }
      ]
    }
  ]
}